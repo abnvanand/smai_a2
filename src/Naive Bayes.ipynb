{
 "cells": [
  {
   "cell_type": "markdown",
   "metadata": {},
   "source": [
    "# 2. (20 points) \n",
    "A bank is implementing a system to identify potential customers who have higher probablity of availing loans to increase its profit.  \n",
    "**Implement Naive Bayes classifier** on this dataset to help bank achieve its goal.  \n",
    "Report your observations and accuracy of the model.\n",
    "Data is available at http://preon.iiit.ac.in/~sanjoy_chowdhury/LoanDataset.zip"
   ]
  },
  {
   "cell_type": "code",
   "execution_count": 1,
   "metadata": {},
   "outputs": [],
   "source": [
    "import pandas as pd\n",
    "import numpy as np\n",
    "import seaborn as sns\n",
    "\n",
    "from utils import train_test_split"
   ]
  },
  {
   "cell_type": "code",
   "execution_count": 2,
   "metadata": {},
   "outputs": [
    {
     "data": {
      "text/html": [
       "<div>\n",
       "<style scoped>\n",
       "    .dataframe tbody tr th:only-of-type {\n",
       "        vertical-align: middle;\n",
       "    }\n",
       "\n",
       "    .dataframe tbody tr th {\n",
       "        vertical-align: top;\n",
       "    }\n",
       "\n",
       "    .dataframe thead th {\n",
       "        text-align: right;\n",
       "    }\n",
       "</style>\n",
       "<table border=\"1\" class=\"dataframe\">\n",
       "  <thead>\n",
       "    <tr style=\"text-align: right;\">\n",
       "      <th></th>\n",
       "      <th>age</th>\n",
       "      <th>experience</th>\n",
       "      <th>income</th>\n",
       "      <th>family size</th>\n",
       "      <th>avg spends per month</th>\n",
       "      <th>education level</th>\n",
       "      <th>mortgage value of house</th>\n",
       "      <th>securities account</th>\n",
       "      <th>CD account</th>\n",
       "      <th>netbanking</th>\n",
       "      <th>credit card</th>\n",
       "      <th>label</th>\n",
       "    </tr>\n",
       "  </thead>\n",
       "  <tbody>\n",
       "    <tr>\n",
       "      <th>0</th>\n",
       "      <td>25</td>\n",
       "      <td>1.1</td>\n",
       "      <td>49</td>\n",
       "      <td>4</td>\n",
       "      <td>1.6</td>\n",
       "      <td>1.2</td>\n",
       "      <td>0</td>\n",
       "      <td>1.3</td>\n",
       "      <td>0.2</td>\n",
       "      <td>0.3</td>\n",
       "      <td>0.4</td>\n",
       "      <td>0.1</td>\n",
       "    </tr>\n",
       "    <tr>\n",
       "      <th>1</th>\n",
       "      <td>31</td>\n",
       "      <td>5.0</td>\n",
       "      <td>39</td>\n",
       "      <td>4</td>\n",
       "      <td>2.2</td>\n",
       "      <td>2.0</td>\n",
       "      <td>0</td>\n",
       "      <td>0.0</td>\n",
       "      <td>0.0</td>\n",
       "      <td>1.0</td>\n",
       "      <td>1.0</td>\n",
       "      <td>0.0</td>\n",
       "    </tr>\n",
       "    <tr>\n",
       "      <th>2</th>\n",
       "      <td>42</td>\n",
       "      <td>18.0</td>\n",
       "      <td>54</td>\n",
       "      <td>1</td>\n",
       "      <td>1.8</td>\n",
       "      <td>1.0</td>\n",
       "      <td>0</td>\n",
       "      <td>0.0</td>\n",
       "      <td>0.0</td>\n",
       "      <td>1.0</td>\n",
       "      <td>0.0</td>\n",
       "      <td>0.0</td>\n",
       "    </tr>\n",
       "  </tbody>\n",
       "</table>\n",
       "</div>"
      ],
      "text/plain": [
       "   age  experience  income  family size  avg spends per month  \\\n",
       "0   25         1.1      49            4                   1.6   \n",
       "1   31         5.0      39            4                   2.2   \n",
       "2   42        18.0      54            1                   1.8   \n",
       "\n",
       "   education level  mortgage value of house  securities account  CD account  \\\n",
       "0              1.2                        0                 1.3         0.2   \n",
       "1              2.0                        0                 0.0         0.0   \n",
       "2              1.0                        0                 0.0         0.0   \n",
       "\n",
       "   netbanking  credit card  label  \n",
       "0         0.3          0.4    0.1  \n",
       "1         1.0          1.0    0.0  \n",
       "2         1.0          0.0    0.0  "
      ]
     },
     "execution_count": 2,
     "metadata": {},
     "output_type": "execute_result"
    }
   ],
   "source": [
    "df = pd.read_csv(\"../data/loan/data.csv\", header=None, sep=',')\n",
    "\n",
    "# add column names header\n",
    "df.columns = [\"ID\", \"age\", \"experience\", \"income\", \"zipcode\", \"family size\", \n",
    "              \"avg spends per month\",\"education level\", \"mortgage value of house\", \"label\",\n",
    "              \"securities account\", \"CD account\", \"netbanking\", \"credit card\"]\n",
    "\n",
    "df.drop([\"ID\", \"zipcode\"], axis=1, inplace=True)\n",
    "\n",
    "cols = df.columns.tolist()\n",
    "cols.remove(\"label\")\n",
    "df = df[cols +[\"label\"]]\n",
    "\n",
    "df.head(3)"
   ]
  },
  {
   "cell_type": "code",
   "execution_count": 3,
   "metadata": {},
   "outputs": [],
   "source": [
    "categorical_features = [\"education level\", \"securities account\", \"CD account\", \"netbanking\",\n",
    "                        \"credit card\"] + [\"family size\"]\n",
    "numerical_features = [\"age\", \"experience\", \"income\", \"avg spends per month\", \"mortgage value of house\",]"
   ]
  },
  {
   "cell_type": "markdown",
   "metadata": {},
   "source": [
    "# Data Inspection"
   ]
  },
  {
   "cell_type": "code",
   "execution_count": 4,
   "metadata": {},
   "outputs": [
    {
     "name": "stdout",
     "output_type": "stream",
     "text": [
      "age 45 min: 23 max: 67\n",
      "------------------\n",
      "experience 48 min: -3.0 max: 43.0\n",
      "------------------\n",
      "income 162 min: 8 max: 224\n",
      "------------------\n",
      "family size 4 min: 1 max: 4\n",
      "[1 2 3 4]\n",
      "[1317 1173  915 1095]\n",
      "------------------\n",
      "avg spends per month 105 min: 0.0 max: 10.0\n",
      "------------------\n",
      "education level 4 min: 1.0 max: 3.0\n",
      "[1.  1.2 2.  3. ]\n",
      "[1882    1 1262 1355]\n",
      "------------------\n",
      "mortgage value of house 338 min: 0 max: 635\n",
      "------------------\n",
      "securities account 3 min: 0.0 max: 1.3\n",
      "[0.  1.  1.3]\n",
      "[4021  478    1]\n",
      "------------------\n",
      "CD account 3 min: 0.0 max: 1.0\n",
      "[0.  0.2 1. ]\n",
      "[4226    1  273]\n",
      "------------------\n",
      "netbanking 3 min: 0.0 max: 1.0\n",
      "[0.  0.3 1. ]\n",
      "[1791    1 2708]\n",
      "------------------\n",
      "credit card 3 min: 0.0 max: 1.0\n",
      "[0.  0.4 1. ]\n",
      "[3183    1 1316]\n",
      "------------------\n",
      "label 3 min: 0.0 max: 1.0\n",
      "[0.  0.1 1. ]\n",
      "[4065    1  434]\n",
      "------------------\n",
      "Datframe size: 4500\n"
     ]
    }
   ],
   "source": [
    "def inspect_data(df):\n",
    "    for col in df.columns:\n",
    "        unique_vals, counts=np.unique(df[col].values, return_counts=True)\n",
    "        print(col,len(unique_vals),\"min:\", min(unique_vals), \"max:\", max(unique_vals))\n",
    "        if len(unique_vals)<=10:\n",
    "            print(unique_vals)\n",
    "            print(counts)\n",
    "        print(\"------------------\")\n",
    "\n",
    "    print(\"Datframe size:\", len(df))\n",
    "inspect_data(df)"
   ]
  },
  {
   "cell_type": "markdown",
   "metadata": {},
   "source": [
    "# Clean data"
   ]
  },
  {
   "cell_type": "code",
   "execution_count": 5,
   "metadata": {},
   "outputs": [],
   "source": [
    "# first we cleanup categorical data\n",
    "df.loc[df[\"education level\"] == 1.2, \"education level\"] = df['education level'].value_counts().idxmax()\n",
    "df.loc[df[\"label\"] == 0.1, \"label\"] = df['label'].value_counts().idxmax()\n",
    "df.loc[df[\"securities account\"] == 1.3, \"securities account\"] = df['securities account'].value_counts().idxmax()\n",
    "df.loc[df[\"CD account\"] == 0.2, \"CD account\"] = df['CD account'].value_counts().idxmax()\n",
    "df.loc[df[\"netbanking\"] == 0.3, \"netbanking\"] = df['netbanking'].value_counts().idxmax()\n",
    "df.loc[df[\"credit card\"] == 0.4, \"credit card\"] = df['credit card'].value_counts().idxmax()\n",
    "\n",
    "# Fix experience. It can't be negative\n",
    "df.loc[df.experience<0, \"experience\"] = df.loc[df.experience>=0, \"experience\"].mean()"
   ]
  },
  {
   "cell_type": "code",
   "execution_count": 6,
   "metadata": {},
   "outputs": [
    {
     "name": "stdout",
     "output_type": "stream",
     "text": [
      "age 45 min: 23 max: 67\n",
      "------------------\n",
      "experience 46 min: 0.0 max: 43.0\n",
      "------------------\n",
      "income 162 min: 8 max: 224\n",
      "------------------\n",
      "family size 4 min: 1 max: 4\n",
      "[1 2 3 4]\n",
      "[1317 1173  915 1095]\n",
      "------------------\n",
      "avg spends per month 105 min: 0.0 max: 10.0\n",
      "------------------\n",
      "education level 3 min: 1.0 max: 3.0\n",
      "[1. 2. 3.]\n",
      "[1883 1262 1355]\n",
      "------------------\n",
      "mortgage value of house 338 min: 0 max: 635\n",
      "------------------\n",
      "securities account 2 min: 0.0 max: 1.0\n",
      "[0. 1.]\n",
      "[4022  478]\n",
      "------------------\n",
      "CD account 2 min: 0.0 max: 1.0\n",
      "[0. 1.]\n",
      "[4227  273]\n",
      "------------------\n",
      "netbanking 2 min: 0.0 max: 1.0\n",
      "[0. 1.]\n",
      "[1791 2709]\n",
      "------------------\n",
      "credit card 2 min: 0.0 max: 1.0\n",
      "[0. 1.]\n",
      "[3184 1316]\n",
      "------------------\n",
      "label 2 min: 0.0 max: 1.0\n",
      "[0. 1.]\n",
      "[4066  434]\n",
      "------------------\n",
      "Datframe size: 4500\n"
     ]
    }
   ],
   "source": [
    "inspect_data(df)"
   ]
  },
  {
   "cell_type": "code",
   "execution_count": null,
   "metadata": {},
   "outputs": [],
   "source": []
  },
  {
   "cell_type": "markdown",
   "metadata": {},
   "source": [
    "#### Probability matrix structure\n",
    "```python\n",
    "{\n",
    "    feature_name:\n",
    "         {\n",
    "             feat_val1: \n",
    "                {\n",
    "                    Class1: Prob,\n",
    "                    Class2: prob\n",
    "                }\n",
    "         },\n",
    "    numerical_feature_name:\n",
    "        {\n",
    "            mean:\n",
    "                {\n",
    "                    class1: Prob,\n",
    "                    class2: Prob\n",
    "                },\n",
    "            std:\n",
    "                {\n",
    "                    class1: Prob,\n",
    "                    class2: Prob\n",
    "                }\n",
    "        }\n",
    "}\n",
    "```"
   ]
  },
  {
   "cell_type": "code",
   "execution_count": 7,
   "metadata": {},
   "outputs": [],
   "source": [
    "def naive_bayes_algo(df):\n",
    "    global probability_matrix\n",
    "    probability_matrix = {}\n",
    "    \n",
    "    unique_classes = np.unique(df[\"label\"])\n",
    "\n",
    "    for feature_name in df.columns:\n",
    "        if feature_name in categorical_features:\n",
    "            if feature_name not in probability_matrix:\n",
    "                probability_matrix[feature_name] = {}\n",
    "\n",
    "            unique_values = np.unique(df[feature_name].values)\n",
    "            for feature_val in unique_values:\n",
    "                if feature_val not in probability_matrix[feature_name]:\n",
    "                    probability_matrix[feature_name][feature_val] = {}\n",
    "\n",
    "                for class_value in unique_classes:\n",
    "                    if class_value not in probability_matrix[feature_name][feature_val]:\n",
    "                        probability_matrix[feature_name][feature_val][class_value] = 0\n",
    "\n",
    "                    probability_matrix[feature_name][feature_val][class_value] = conditional_probability((feature_name, feature_val), (\"label\", class_value))\n",
    "\n",
    "        elif feature_name in numerical_features:\n",
    "            if feature_name not in probability_matrix:\n",
    "                probability_matrix[feature_name] = {\"mean\":{}, \"std\":{}}\n",
    "                # find mean and standard deviation\n",
    "                for class_value in  unique_classes:\n",
    "                    probability_matrix[feature_name][\"mean\"][class_value] = df[df[\"label\"]==class_value][feature_name].mean()\n",
    "\n",
    "                for class_value in  unique_classes:\n",
    "                    probability_matrix[feature_name][\"std\"][class_value] = df[df[\"label\"]==class_value][feature_name].mean()\n",
    "\n"
   ]
  },
  {
   "cell_type": "code",
   "execution_count": 8,
   "metadata": {},
   "outputs": [],
   "source": [
    "def conditional_probability(feature, class_label):\n",
    "    \"\"\"Returns conditional probability P(A|B) = P(A and B) / P(B) = n(A and B) / n(B)\"\"\"\n",
    "    feature_name, feature_value = feature\n",
    "    class_name, class_value = class_label # for our purposes class_name will always be \"label\" and value can be 0 or 1\n",
    "    n_A_and_B = len(df[(df[feature_name]==feature_value) & (df[class_name]==class_value)]) \n",
    "    n_B = len(df[df[class_name]==class_value])\n",
    "    return n_A_and_B / n_B\n",
    "    \n",
    "    \n",
    "    \n",
    "def probability(df, feature_name, feature_value):\n",
    "    # P(A) = n(A) / n(Sample space)\n",
    "    return len(df[df[feature_name]==feature_value]) / len(df)"
   ]
  },
  {
   "cell_type": "code",
   "execution_count": 9,
   "metadata": {},
   "outputs": [],
   "source": [
    "# from pprint import pprint\n",
    "# pprint(probability_matrix)"
   ]
  },
  {
   "cell_type": "code",
   "execution_count": 10,
   "metadata": {},
   "outputs": [],
   "source": [
    "import math\n",
    "def normpdf(x, mean, sd):\n",
    "    var = float(sd)**2\n",
    "    denom = (2*math.pi*var)**.5\n",
    "    num = math.exp(-(float(x)-float(mean))**2/(2*var))\n",
    "    return num / denom"
   ]
  },
  {
   "cell_type": "code",
   "execution_count": 11,
   "metadata": {},
   "outputs": [],
   "source": [
    "from math import log\n",
    "\n",
    "def get_likelihood(example, probability_matrix, class_label, columns):\n",
    "    likelihood = 1\n",
    "    for feature_name in columns:\n",
    "        feature_value = example[feature_name]\n",
    "        \n",
    "        if feature_name in categorical_features:\n",
    "            prob = probability_matrix[feature_name][feature_value][class_label]\n",
    "            \n",
    "        elif feature_name in numerical_features:\n",
    "            mean = probability_matrix[feature_name][\"mean\"][class_label]\n",
    "            std = probability_matrix[feature_name][\"std\"][class_label]\n",
    "            prob = normpdf(feature_value,mean, std)\n",
    "        \n",
    "        likelihood += log(prob)\n",
    "\n",
    "    return likelihood"
   ]
  },
  {
   "cell_type": "code",
   "execution_count": 12,
   "metadata": {},
   "outputs": [],
   "source": [
    "from math import log \n",
    "\n",
    "def classify_example(example, train_df, columns):\n",
    "    unique_labels = np.unique(train_df[\"label\"].values)\n",
    "    posterior_probabilities = []\n",
    "    \n",
    "    for class_label in unique_labels:\n",
    "        posterior = get_likelihood(example, probability_matrix, class_label, columns) \\\n",
    "                        + log(probability(train_df, \"label\", class_label))\n",
    "        posterior_probabilities.append(posterior)\n",
    "    \n",
    "    max_prob  = max(posterior_probabilities)\n",
    "    idx = posterior_probabilities.index(max_prob)\n",
    "    return unique_labels[idx]\n",
    "\n",
    "\n",
    "def predict(test_df, train_df):\n",
    "    predictions = test_df.apply(classify_example, axis=1, args=(train_df, test_df.columns))\n",
    "    predictions.name=\"classification\"\n",
    "    return predictions"
   ]
  },
  {
   "cell_type": "code",
   "execution_count": 13,
   "metadata": {},
   "outputs": [
    {
     "name": "stdout",
     "output_type": "stream",
     "text": [
      "accuracy 0.8966666666666666\n"
     ]
    }
   ],
   "source": [
    "train_df, validate_df = train_test_split(df, test_size = 0.2, random_state=9)\n",
    "naive_bayes_algo(train_df)\n",
    "predictions = predict(validate_df, train_df)\n",
    "\n",
    "actual = validate_df[\"label\"]\n",
    "combined_df = pd.concat([actual, predictions],axis=1)\n",
    "\n",
    "from utils import accuracy\n",
    "print(\"accuracy\", accuracy(combined_df))"
   ]
  },
  {
   "cell_type": "code",
   "execution_count": null,
   "metadata": {},
   "outputs": [],
   "source": []
  },
  {
   "cell_type": "code",
   "execution_count": null,
   "metadata": {},
   "outputs": [],
   "source": []
  }
 ],
 "metadata": {
  "kernelspec": {
   "display_name": "Python 3",
   "language": "python",
   "name": "python3"
  },
  "language_info": {
   "codemirror_mode": {
    "name": "ipython",
    "version": 3
   },
   "file_extension": ".py",
   "mimetype": "text/x-python",
   "name": "python",
   "nbconvert_exporter": "python",
   "pygments_lexer": "ipython3",
   "version": "3.7.1"
  }
 },
 "nbformat": 4,
 "nbformat_minor": 2
}
