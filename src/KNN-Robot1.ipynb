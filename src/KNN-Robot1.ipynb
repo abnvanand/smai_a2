{
 "cells": [
  {
   "cell_type": "markdown",
   "metadata": {},
   "source": [
    "## 1 Robot1\n",
    "- Q1.1 Implement a KNN classifier.\n",
    "- Q1.2 Report precision, recall, f1 score and accuracy.\n",
    "- Q1.3 Compare your result with in-built(scikit-learn) KNN function to check correctness of your algorithm.(10 points)\n",
    "- Q2.1 Use different distance measures as applicable. \n",
    "- Q2.2 Plot graph to report accuracy with change in value of K. Also suggest possible reason for better performance."
   ]
  },
  {
   "cell_type": "code",
   "execution_count": 1,
   "metadata": {},
   "outputs": [],
   "source": [
    "import numpy as np\n",
    "import pandas as pd\n",
    "import matplotlib.pyplot as plt\n",
    "import seaborn as sns\n",
    "\n",
    "from utils.datatools import train_test_split\n",
    "from utils.metrics import accuracy"
   ]
  },
  {
   "cell_type": "markdown",
   "metadata": {},
   "source": [
    "## Helper Functions"
   ]
  },
  {
   "cell_type": "markdown",
   "metadata": {},
   "source": [
    "### Functions to get distance measures"
   ]
  },
  {
   "cell_type": "code",
   "execution_count": 2,
   "metadata": {},
   "outputs": [],
   "source": [
    "from math import sqrt\n",
    "\n",
    "def euclidean_distance(x, y, dims=None):\n",
    "    if dims is not None:\n",
    "        x, y = x[:dims], y[:dims]\n",
    "    \n",
    "    return np.sqrt(np.sum((x - y) ** 2)) \n",
    "\n",
    "\n",
    "def manhattan_distance(x, y, dims=None):\n",
    "    if dims is not None:\n",
    "        x, y = x[:dims], y[:dims]\n",
    "    \n",
    "    return np.sum(np.absolute(x-y))\n",
    "\n",
    "\n",
    "def chebyshev_distance(x, y, dims=None):\n",
    "    if dims is not None:\n",
    "        x, y = x[:dims], y[:dims]\n",
    "    \n",
    "    return np.max(np.absolute(x-y))\n",
    "\n",
    "\n",
    "def cosine_distance(x, y, dims=None):\n",
    "    if dims is not None:\n",
    "        x, y = x[:dims], y[:dims]\n",
    "    \n",
    "    n = np.sum(x * y)\n",
    "    a = np.sqrt(np.sum(x**2))\n",
    "    b = np.sqrt(np.sum(y**2))\n",
    "    \n",
    "    return 1 - (n / (a*b))"
   ]
  },
  {
   "cell_type": "code",
   "execution_count": 3,
   "metadata": {},
   "outputs": [
    {
     "name": "stdout",
     "output_type": "stream",
     "text": [
      "Sample point1: [1, 9, 0] Sample point2: [4, 3, 7]\n",
      "euclidean_distance: 9.695359714832659\n",
      "manhattan_distance: 16\n",
      "chebyshev_distance: 7\n",
      "cosine_distance: 0.6020404713786001\n"
     ]
    }
   ],
   "source": [
    "print(\"Sample point1:\", [1,9,0], \"Sample point2:\",[4,3,7])\n",
    "print(\"euclidean_distance:\", euclidean_distance(np.array([1,9,0]),np.array([4,3,7])))\n",
    "print(\"manhattan_distance:\", manhattan_distance(np.array([1,9,0]),np.array([4,3,7])))\n",
    "print(\"chebyshev_distance:\", chebyshev_distance(np.array([1,9,0]),np.array([4,3,7])))\n",
    "print(\"cosine_distance:\", cosine_distance(np.array([1,9,0]),np.array([4,3,7])))"
   ]
  },
  {
   "cell_type": "code",
   "execution_count": 4,
   "metadata": {},
   "outputs": [],
   "source": [
    "def get_k_nearest_neighbours(training_df, test_point, k, distance_measure_algo):\n",
    "    \"\"\"Returns k nearest neighbours of test_point, among training_points\"\"\"\n",
    "    dimensions = len(test_point) - 1  # -1 to not consider class label when calculating distance\n",
    "    dists = np.apply_along_axis(distance_measure_algo, 1, training_df, test_point, dimensions)\n",
    "    distances = np.column_stack((dists, training_df))\n",
    "\n",
    "    distances = distances[distances[:, 0].argsort()]\n",
    "    k_neighbours = distances[:k, 1:]\n",
    "    return k_neighbours\n",
    "\n",
    "\n",
    "def best_class(neighbours):\n",
    "    \"\"\"Returns most prominent class label among the neighbours.\"\"\"\n",
    "    class_labels = neighbours[:,-1]\n",
    "    unique_labels, counts = np.unique(class_labels, return_counts=True)\n",
    "    index = counts.argmax()\n",
    "    return unique_labels[index]"
   ]
  },
  {
   "cell_type": "code",
   "execution_count": 5,
   "metadata": {},
   "outputs": [],
   "source": [
    "def classify_example(example, training_df, k, distance_measure_algo):\n",
    "    \"\"\"Predicts the class label for the example data.\"\"\"\n",
    "    neighbours = get_k_nearest_neighbours(training_df, example.values, k, distance_measure_algo)\n",
    "    return best_class(neighbours)"
   ]
  },
  {
   "cell_type": "code",
   "execution_count": 6,
   "metadata": {},
   "outputs": [],
   "source": [
    "def predict(test_df, train_df, k, distance_measure_algo):\n",
    "    \"\"\"Adds a classification column to the test dataframe. \n",
    "    This classification column contains the predictions made by the columns.\"\"\"\n",
    "    predictions = test_df.apply(classify_example, axis=1, args=(train_df, k,distance_measure_algo))\n",
    "    predictions.name=\"classification\"\n",
    "    return predictions"
   ]
  },
  {
   "cell_type": "code",
   "execution_count": 7,
   "metadata": {},
   "outputs": [],
   "source": [
    "def confusion_matrix(df):\n",
    "    \"\"\"Creates confusion matrix with true labels along rows and predicted labels along columns.\n",
    "    Assumes df contains a column \"label\"=>True labels\"\"\"\n",
    "    rows = cols= np.unique(df[\"label\"].values)\n",
    "    \n",
    "    matrix = np.ndarray(shape=(len(rows), len(cols)), dtype=float)\n",
    "    for ri, row in enumerate(rows):\n",
    "        for ci, col in enumerate(cols):\n",
    "            matrix[ri][ci] = len(df[(df.label == row) & (df.classification == col)])\n",
    "    \n",
    "    return matrix, rows, cols\n"
   ]
  },
  {
   "cell_type": "code",
   "execution_count": 8,
   "metadata": {},
   "outputs": [],
   "source": [
    "def plot_confusion_heatmap(df, xlabel='Predicted labels', ylabel='True labels',\n",
    "                           xticks_rotation=45, yticks_rotation=0, fontsize=14):\n",
    "    \"\"\"Plots the heatmap for confusion matrix of a given dataframe\"\"\"\n",
    "    matrix, class_names, _ = confusion_matrix(df)\n",
    "\n",
    "    df_cm = pd.DataFrame(\n",
    "        matrix, index=class_names, columns=class_names,\n",
    "    )\n",
    "    heatmap = sns.heatmap(df_cm, annot=True, fmt='g')\n",
    "    heatmap.xaxis.set_ticklabels(heatmap.xaxis.get_ticklabels(), rotation=xticks_rotation, ha='right',\n",
    "                                 fontsize=fontsize)\n",
    "    heatmap.yaxis.set_ticklabels(heatmap.yaxis.get_ticklabels(), rotation=yticks_rotation, ha='right',\n",
    "                                 fontsize=fontsize)\n",
    "    plt.xlabel(xlabel)\n",
    "    plt.ylabel(ylabel)\n"
   ]
  },
  {
   "cell_type": "markdown",
   "metadata": {},
   "source": [
    "### Functions to measure model performance "
   ]
  },
  {
   "cell_type": "code",
   "execution_count": 9,
   "metadata": {},
   "outputs": [],
   "source": [
    "def true_positive(cf, true_class_index):\n",
    "    return cf[true_class_index][true_class_index]\n",
    "\n",
    "\n",
    "def false_positive(cf, true_class_index):\n",
    "    column_sum = np.sum(cf, axis=0)[true_class_index]     \n",
    "    return column_sum - true_positive(cf, true_class_index)\n",
    "\n",
    "\n",
    "def false_negative(cf, true_class_index):\n",
    "    row_sum = np.sum(cf, axis=1)[true_class_index]     \n",
    "    return row_sum - true_positive(cf, true_class_index)\n",
    "\n",
    "\n",
    "def true_negative(cf, true_class_index):\n",
    "    matrix_sum = np.sum(cf)\n",
    "    row_sum = np.sum(cf, axis=1)[true_class_index]     \n",
    "    column_sum = np.sum(cf, axis=0)[true_class_index]\n",
    "    # using inclusion exclusion principle\n",
    "    return matrix_sum - row_sum - column_sum + true_positive(cf, true_class_index)\n",
    "\n",
    "\n",
    "def precision(df, true_class):\n",
    "    # precision = TP / (TP+FP)\n",
    "    cf, class_labels, __ = confusion_matrix(df)\n",
    "    true_class_index = np.where(class_labels==true_class)[0][0]\n",
    "    TP = true_positive(cf, true_class_index)\n",
    "    FP = false_positive(cf, true_class_index)\n",
    "    return  TP / (TP + FP)\n",
    "\n",
    "\n",
    "def recall(df, true_class):\n",
    "    # recall = TP / (TP + FN)\n",
    "    cf, class_labels, __ = confusion_matrix(df)\n",
    "    true_class_index = np.where(class_labels == true_class)[0][0]\n",
    "    TP = true_positive(cf, true_class_index)\n",
    "    FN = false_negative(cf, true_class_index)\n",
    "    return  TP / (TP + FN)\n",
    "    \n",
    "\n",
    "def f1_score(df, true_class, p=None, r=None):\n",
    "    if p is None:\n",
    "        p = precision(df, true_class)\n",
    "    if r is None:\n",
    "        r = recall(df, true_class)\n",
    "\n",
    "    if p + r == 0:\n",
    "        return 0\n",
    "\n",
    "    return 2 * (p * r) / (p + r)"
   ]
  },
  {
   "cell_type": "code",
   "execution_count": null,
   "metadata": {},
   "outputs": [],
   "source": []
  },
  {
   "cell_type": "markdown",
   "metadata": {},
   "source": [
    "## 1.1 Robot1"
   ]
  },
  {
   "cell_type": "markdown",
   "metadata": {},
   "source": [
    "### Read csv file"
   ]
  },
  {
   "cell_type": "code",
   "execution_count": 10,
   "metadata": {},
   "outputs": [],
   "source": [
    "def read_csv(file_path):\n",
    "    df = pd.read_csv(file_path, header=None, sep=' ').dropna(axis=1, how='all')\n",
    "    # add column names header\n",
    "    df.columns = [\"class\", \"a1\", \"a2\", \"a3\", \"a4\", \"a5\", \"a6\", \"Id\"]\n",
    "\n",
    "    # we do not need Id column\n",
    "    df.drop(['Id'], axis=1, inplace=True)\n",
    "\n",
    "    # make class label the last column \n",
    "    cols = df.columns.tolist()\n",
    "    cols.remove(\"class\")\n",
    "    df = df[cols +[\"class\"]]\n",
    "\n",
    "    target = \"label\"\n",
    "    # rename the column whose value is to be predicted to \"label\"\n",
    "    df = df.rename(columns={\"class\": target}) \n",
    "\n",
    "    df.head(3)\n",
    "    \n",
    "    return df\n",
    "    \n",
    "df = read_csv(\"../data/robot/Robot1\")"
   ]
  },
  {
   "cell_type": "markdown",
   "metadata": {},
   "source": [
    "# Q1.1 Implement a KNN classifier."
   ]
  },
  {
   "cell_type": "code",
   "execution_count": 11,
   "metadata": {
    "scrolled": false
   },
   "outputs": [],
   "source": [
    "number_of_neighbours = 5\n",
    "\n",
    "train_df, validate_df = train_test_split(df, test_size = 0.2, random_state=1)\n",
    "\n",
    "predictions = predict(validate_df, train_df, k=number_of_neighbours, distance_measure_algo=euclidean_distance)\n",
    "\n",
    "actual = validate_df[\"label\"]\n",
    "\n",
    "combined_df = pd.concat([actual, predictions],axis=1)\n",
    "\n"
   ]
  },
  {
   "cell_type": "markdown",
   "metadata": {},
   "source": [
    " # Q1.2 Report precision, recall, f1_score and accuracy"
   ]
  },
  {
   "cell_type": "code",
   "execution_count": 12,
   "metadata": {},
   "outputs": [
    {
     "name": "stdout",
     "output_type": "stream",
     "text": [
      "precision 0.8\n",
      "recall 0.8571428571428571\n",
      "f1_score 0.8275862068965518\n",
      "accuracy 0.8\n"
     ]
    },
    {
     "data": {
      "image/png": "[encoded data removed]",
      "text/plain": [
       "<Figure size 432x288 with 2 Axes>"
      ]
     },
     "metadata": {
      "needs_background": "light"
     },
     "output_type": "display_data"
    }
   ],
   "source": [
    "print(\"precision\", precision(combined_df, 1))\n",
    "\n",
    "print(\"recall\", recall(combined_df, 1))\n",
    "\n",
    "print(\"f1_score\", f1_score(combined_df, 1))\n",
    "\n",
    "print(\"accuracy\", accuracy(combined_df))\n",
    "\n",
    "plot_confusion_heatmap(combined_df, xticks_rotation=0)"
   ]
  },
  {
   "cell_type": "markdown",
   "metadata": {},
   "source": [
    "# Q1.3 Compare your result with in-built(scikit-learn) KNN function to check correctness of your algorithm"
   ]
  },
  {
   "cell_type": "markdown",
   "metadata": {},
   "source": [
    "# Comparison with sklearn"
   ]
  },
  {
   "cell_type": "code",
   "execution_count": 13,
   "metadata": {},
   "outputs": [
    {
     "data": {
      "text/plain": [
       "0.8"
      ]
     },
     "execution_count": 13,
     "metadata": {},
     "output_type": "execute_result"
    }
   ],
   "source": [
    "from sklearn.neighbors import KNeighborsClassifier\n",
    "from sklearn.metrics import accuracy_score\n",
    "\n",
    "X_train, y_train = train_df.drop([\"label\"], axis=1), train_df[\"label\"]\n",
    "X_test, y_test = validate_df.drop([\"label\"], axis=1), validate_df[\"label\"]\n",
    "\n",
    "model = KNeighborsClassifier(n_neighbors=number_of_neighbours)\n",
    "\n",
    "# Train the model using the training set\n",
    "model.fit(X_train, y_train)\n",
    "\n",
    "# Predict Output\n",
    "y_pred = model.predict(X_test)\n",
    "\n",
    "# Report accuracy\n",
    "accuracy_score(y_test, y_pred)"
   ]
  },
  {
   "cell_type": "markdown",
   "metadata": {},
   "source": [
    "# Q2.1 Use different distance measures as applicable."
   ]
  },
  {
   "cell_type": "markdown",
   "metadata": {},
   "source": [
    "## Using euclidean distance"
   ]
  },
  {
   "cell_type": "code",
   "execution_count": 14,
   "metadata": {},
   "outputs": [
    {
     "name": "stdout",
     "output_type": "stream",
     "text": [
      "accuracy 0.8\n"
     ]
    }
   ],
   "source": [
    "predictions = predict(validate_df, train_df, k=number_of_neighbours, distance_measure_algo=euclidean_distance)\n",
    "actual = validate_df[\"label\"]\n",
    "combined_df = pd.concat([actual, predictions],axis=1)\n",
    "\n",
    "print(\"accuracy\", accuracy(combined_df))\n"
   ]
  },
  {
   "cell_type": "markdown",
   "metadata": {},
   "source": [
    "## Using Manhattan distance"
   ]
  },
  {
   "cell_type": "code",
   "execution_count": 15,
   "metadata": {},
   "outputs": [
    {
     "name": "stdout",
     "output_type": "stream",
     "text": [
      "accuracy 0.84\n"
     ]
    }
   ],
   "source": [
    "predictions = predict(validate_df, train_df, k=number_of_neighbours, distance_measure_algo=manhattan_distance)\n",
    "actual = validate_df[\"label\"]\n",
    "combined_df = pd.concat([actual, predictions],axis=1)\n",
    "\n",
    "print(\"accuracy\", accuracy(combined_df))\n"
   ]
  },
  {
   "cell_type": "markdown",
   "metadata": {},
   "source": [
    "## Using Chebyshev distance"
   ]
  },
  {
   "cell_type": "code",
   "execution_count": 16,
   "metadata": {},
   "outputs": [
    {
     "name": "stdout",
     "output_type": "stream",
     "text": [
      "accuracy 0.8\n"
     ]
    }
   ],
   "source": [
    "predictions = predict(validate_df, train_df, k=number_of_neighbours, distance_measure_algo=chebyshev_distance)\n",
    "actual = validate_df[\"label\"]\n",
    "combined_df = pd.concat([actual, predictions],axis=1)\n",
    "\n",
    "print(\"accuracy\", accuracy(combined_df))\n"
   ]
  },
  {
   "cell_type": "markdown",
   "metadata": {},
   "source": [
    "## Using Cosine distance"
   ]
  },
  {
   "cell_type": "code",
   "execution_count": 17,
   "metadata": {},
   "outputs": [
    {
     "name": "stdout",
     "output_type": "stream",
     "text": [
      "accuracy 0.84\n"
     ]
    }
   ],
   "source": [
    "predictions = predict(validate_df, train_df, k=number_of_neighbours, distance_measure_algo=cosine_distance)\n",
    "actual = validate_df[\"label\"]\n",
    "combined_df = pd.concat([actual, predictions],axis=1)\n",
    "\n",
    "print(\"accuracy\", accuracy(combined_df))\n"
   ]
  },
  {
   "cell_type": "markdown",
   "metadata": {},
   "source": [
    "### Plot for sklearn model"
   ]
  },
  {
   "cell_type": "code",
   "execution_count": 18,
   "metadata": {
    "scrolled": false
   },
   "outputs": [
    {
     "name": "stdout",
     "output_type": "stream",
     "text": [
      "1 0.76;\t2 0.72;\t3 0.72;\t4 0.72;\t5 0.8;\t6 0.72;\t7 0.72;\t8 0.72;\t9 0.72;\t\n"
     ]
    },
    {
     "data": {
      "text/plain": [
       "<seaborn.axisgrid.FacetGrid at 0x7f4fb3b49da0>"
      ]
     },
     "execution_count": 18,
     "metadata": {},
     "output_type": "execute_result"
    },
    {
     "data": {
      "image/png": "[encoded data removed]",
      "text/plain": [
       "<Figure size 432x432 with 1 Axes>"
      ]
     },
     "metadata": {
      "needs_background": "light"
     },
     "output_type": "display_data"
    }
   ],
   "source": [
    "from math import sqrt, floor\n",
    "accuracies = []\n",
    "n_samples = floor(sqrt(len(train_df)))\n",
    "X_train, y_train = train_df.drop([\"label\"], axis=1), train_df[\"label\"]\n",
    "X_test, y_test = validate_df.drop([\"label\"], axis=1), validate_df[\"label\"]\n",
    "\n",
    "for k in range(1, n_samples+1):\n",
    "    model = KNeighborsClassifier(n_neighbors=k)\n",
    "    model.fit(X_train, y_train)\n",
    "    y_pred = model.predict(X_test)\n",
    "    accu = accuracy_score(y_test, y_pred)\n",
    "    print(k, accu, end=\";\\t\")\n",
    "    accuracies.append((k, accu))\n",
    "\n",
    "print()\n",
    "plotdf = pd.DataFrame(accuracies, index=range(n_samples), columns=[\"number of neighbours\", \"accuracy\"])\n",
    "sns.relplot( y=\"accuracy\", x=\"number of neighbours\", kind=\"line\", data=plotdf, height=6)\n"
   ]
  },
  {
   "cell_type": "markdown",
   "metadata": {},
   "source": [
    "# Q2.2 Plot graph to report accuracy with change in value of K. Also suggest possible reason for better performance."
   ]
  },
  {
   "cell_type": "markdown",
   "metadata": {},
   "source": [
    "### Plot for our KNN implementation"
   ]
  },
  {
   "cell_type": "code",
   "execution_count": 19,
   "metadata": {
    "scrolled": false
   },
   "outputs": [
    {
     "name": "stdout",
     "output_type": "stream",
     "text": [
      "1 0.76;\t2 0.72;\t3 0.68;\t4 0.72;\t5 0.8;\t6 0.72;\t7 0.68;\t8 0.72;\t9 0.76;\t\n"
     ]
    },
    {
     "data": {
      "text/plain": [
       "<seaborn.axisgrid.FacetGrid at 0x7f4fa4d1fcc0>"
      ]
     },
     "execution_count": 19,
     "metadata": {},
     "output_type": "execute_result"
    },
    {
     "data": {
      "image/png": "[encoded data removed]",
      "text/plain": [
       "<Figure size 432x432 with 1 Axes>"
      ]
     },
     "metadata": {
      "needs_background": "light"
     },
     "output_type": "display_data"
    }
   ],
   "source": [
    "from math import sqrt, floor\n",
    "accuracies = []\n",
    "n_samples = floor(sqrt(len(train_df)))\n",
    "\n",
    "for k in range(1, n_samples + 1):\n",
    "    predictions = predict(validate_df, train_df, k, euclidean_distance)\n",
    "    actual = validate_df[\"label\"]\n",
    "    combined_df = pd.concat([actual, predictions], axis=1)\n",
    "    accu = accuracy(combined_df)\n",
    "    print(k, accu, end=\";\\t\")\n",
    "    accuracies.append((k, accu))\n",
    "    \n",
    "print()\n",
    "plotdf = pd.DataFrame(accuracies, index=range(n_samples), columns=[\"number of neighbours\", \"accuracy\"])\n",
    "sns.relplot( y=\"accuracy\", x=\"number of neighbours\", kind=\"line\", data=plotdf, height=6)\n"
   ]
  },
  {
   "cell_type": "markdown",
   "metadata": {},
   "source": [
    "#### Reason for improvement\n",
    "Increasing the value of k leads to smoothening of the classified class reducing the false classifications until a threshold value of k."
   ]
  },
  {
   "cell_type": "code",
   "execution_count": null,
   "metadata": {},
   "outputs": [],
   "source": []
  },
  {
   "cell_type": "markdown",
   "metadata": {},
   "source": [
    "# Load test data from supplied command line path"
   ]
  },
  {
   "cell_type": "code",
   "execution_count": 20,
   "metadata": {},
   "outputs": [
    {
     "name": "stdout",
     "output_type": "stream",
     "text": [
      "Please supply test file path\n",
      "Loading test data from: -f\n"
     ]
    }
   ],
   "source": [
    "import sys\n",
    "if len(sys.argv) != 2:\n",
    "    print(\"Please supply test file path\")\n",
    "    exit(1)\n",
    "\n",
    "test_file_path = sys.argv[1]\n",
    "print(\"Loading test data from:\", test_file_path)\n"
   ]
  },
  {
   "cell_type": "code",
   "execution_count": 21,
   "metadata": {},
   "outputs": [
    {
     "name": "stdout",
     "output_type": "stream",
     "text": [
      "precision 0.8983050847457628\n",
      "recall 0.8548387096774194\n",
      "f1_score 0.8760330578512397\n",
      "accuracy 0.8790322580645161\n"
     ]
    },
    {
     "data": {
      "image/png": "[encoded data removed]",
      "text/plain": [
       "<Figure size 432x288 with 2 Axes>"
      ]
     },
     "metadata": {
      "needs_background": "light"
     },
     "output_type": "display_data"
    }
   ],
   "source": [
    "# STOPSHIP\n",
    "if test_file_path == \"-f\":\n",
    "    test_file_path = \"../data/robot/Robot1\"\n",
    "    \n",
    "test_df = read_csv(test_file_path)\n",
    "\n",
    "predictions = predict(test_df, train_df, 5, cosine_distance)\n",
    "actual = test_df[\"label\"]\n",
    "combined_df = pd.concat([actual, predictions], axis=1)\n",
    "\n",
    "\n",
    "print(\"precision\", precision(combined_df, 1))\n",
    "\n",
    "print(\"recall\", recall(combined_df, 1))\n",
    "\n",
    "print(\"f1_score\", f1_score(combined_df, 1))\n",
    "\n",
    "print(\"accuracy\", accuracy(combined_df))\n",
    "\n",
    "plot_confusion_heatmap(combined_df, xticks_rotation=0)"
   ]
  },
  {
   "cell_type": "code",
   "execution_count": null,
   "metadata": {},
   "outputs": [],
   "source": []
  }
 ],
 "metadata": {
  "kernelspec": {
   "display_name": "Python 3",
   "language": "python",
   "name": "python3"
  },
  "language_info": {
   "codemirror_mode": {
    "name": "ipython",
    "version": 3
   },
   "file_extension": ".py",
   "mimetype": "text/x-python",
   "name": "python",
   "nbconvert_exporter": "python",
   "pygments_lexer": "ipython3",
   "version": "3.7.1"
  }
 },
 "nbformat": 4,
 "nbformat_minor": 2
}
