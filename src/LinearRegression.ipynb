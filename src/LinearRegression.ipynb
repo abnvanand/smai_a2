{
 "cells": [
  {
   "cell_type": "markdown",
   "metadata": {},
   "source": [
    "# 3. (20 points)\n",
    "We are given a dataset containing various criteria important to get admissions into Master’s program and probablity of getting an admit.\n",
    "Dataset is available at http://preon.iiit.ac.in/~sanjoy_chowdhury/AdmissionDataset.zip\n",
    "\n",
    "1. Implement a model using linear regression to predict the probablity of getting the admit.(10 points)\n",
    "2. Compare the performance of **Mean square error loss function** vs **Mean Absolute error function** vs **Mean absolute percentage error function** and explain the reasons for the observed behaviour.(5 points)\n",
    "3. Analyse and report the behaviour of the coefficients(for example: sign of coefficients, value of coefficients etc.) and support it with appropriate plots as necessary(5 points)"
   ]
  },
  {
   "cell_type": "code",
   "execution_count": 1,
   "metadata": {},
   "outputs": [],
   "source": [
    "import numpy as np\n",
    "import pandas as pd\n",
    "import matplotlib.pyplot as plt\n",
    "import seaborn as sns\n",
    "\n",
    "from utils.datatools import inspect_data\n"
   ]
  },
  {
   "cell_type": "code",
   "execution_count": 2,
   "metadata": {},
   "outputs": [
    {
     "data": {
      "text/html": [
       "<div>\n",
       "<style scoped>\n",
       "    .dataframe tbody tr th:only-of-type {\n",
       "        vertical-align: middle;\n",
       "    }\n",
       "\n",
       "    .dataframe tbody tr th {\n",
       "        vertical-align: top;\n",
       "    }\n",
       "\n",
       "    .dataframe thead th {\n",
       "        text-align: right;\n",
       "    }\n",
       "</style>\n",
       "<table border=\"1\" class=\"dataframe\">\n",
       "  <thead>\n",
       "    <tr style=\"text-align: right;\">\n",
       "      <th></th>\n",
       "      <th>GRE Score</th>\n",
       "      <th>TOEFL Score</th>\n",
       "      <th>University Rating</th>\n",
       "      <th>SOP</th>\n",
       "      <th>LOR</th>\n",
       "      <th>CGPA</th>\n",
       "      <th>Research</th>\n",
       "      <th>Chance of Admit</th>\n",
       "    </tr>\n",
       "  </thead>\n",
       "  <tbody>\n",
       "    <tr>\n",
       "      <th>0</th>\n",
       "      <td>317</td>\n",
       "      <td>103</td>\n",
       "      <td>2</td>\n",
       "      <td>2.5</td>\n",
       "      <td>2.0</td>\n",
       "      <td>8.15</td>\n",
       "      <td>0</td>\n",
       "      <td>0.65</td>\n",
       "    </tr>\n",
       "    <tr>\n",
       "      <th>1</th>\n",
       "      <td>319</td>\n",
       "      <td>108</td>\n",
       "      <td>3</td>\n",
       "      <td>3.0</td>\n",
       "      <td>3.5</td>\n",
       "      <td>8.54</td>\n",
       "      <td>1</td>\n",
       "      <td>0.71</td>\n",
       "    </tr>\n",
       "    <tr>\n",
       "      <th>2</th>\n",
       "      <td>322</td>\n",
       "      <td>110</td>\n",
       "      <td>3</td>\n",
       "      <td>3.5</td>\n",
       "      <td>2.5</td>\n",
       "      <td>8.67</td>\n",
       "      <td>1</td>\n",
       "      <td>0.80</td>\n",
       "    </tr>\n",
       "  </tbody>\n",
       "</table>\n",
       "</div>"
      ],
      "text/plain": [
       "   GRE Score  TOEFL Score  University Rating  SOP  LOR   CGPA  Research  \\\n",
       "0        317          103                  2  2.5   2.0  8.15         0   \n",
       "1        319          108                  3  3.0   3.5  8.54         1   \n",
       "2        322          110                  3  3.5   2.5  8.67         1   \n",
       "\n",
       "   Chance of Admit  \n",
       "0             0.65  \n",
       "1             0.71  \n",
       "2             0.80  "
      ]
     },
     "execution_count": 2,
     "metadata": {},
     "output_type": "execute_result"
    }
   ],
   "source": [
    "df = pd.read_csv(\"../data/admission/data.csv\")\n",
    "\n",
    "# we do not need Serial No. column\n",
    "df.drop(['Serial No.'], axis=1, inplace=True)\n",
    "\n",
    "# # make class label the last column \n",
    "# cols = df.columns.tolist()\n",
    "# cols.remove(\"class\")\n",
    "# df = df[cols +[\"class\"]]\n",
    "\n",
    "# target = \"label\"\n",
    "# # rename the column whose value is to be predicted to \"label\"\n",
    "# df = df.rename(columns={\"class\": target})\n",
    "\n",
    "df = df.rename(columns={\"Chance of Admit \": \"Chance of Admit\"}) \n",
    "\n",
    "df.head(3)\n"
   ]
  },
  {
   "cell_type": "code",
   "execution_count": 3,
   "metadata": {},
   "outputs": [
    {
     "data": {
      "text/plain": [
       "Index(['GRE Score', 'TOEFL Score', 'University Rating', 'SOP', 'LOR ', 'CGPA',\n",
       "       'Research', 'Chance of Admit'],\n",
       "      dtype='object')"
      ]
     },
     "execution_count": 3,
     "metadata": {},
     "output_type": "execute_result"
    }
   ],
   "source": [
    "df.columns"
   ]
  },
  {
   "cell_type": "code",
   "execution_count": 4,
   "metadata": {},
   "outputs": [
    {
     "name": "stdout",
     "output_type": "stream",
     "text": [
      "GRE Score 49 min: 290 max: 340\n",
      "------------------\n",
      "TOEFL Score 29 min: 92 max: 120\n",
      "------------------\n",
      "University Rating 5 min: 1 max: 5\n",
      "[1 2 3 4 5]\n",
      "[ 28 116 144  95  67]\n",
      "------------------\n",
      "SOP 9 min: 1.0 max: 5.0\n",
      "[1.  1.5 2.  2.5 3.  3.5 4.  4.5 5. ]\n",
      "[ 5 25 40 54 74 79 80 57 36]\n",
      "------------------\n",
      "LOR  9 min: 1.0 max: 5.0\n",
      "[1.  1.5 2.  2.5 3.  3.5 4.  4.5 5. ]\n",
      "[ 1  9 43 47 86 83 83 55 43]\n",
      "------------------\n",
      "CGPA 177 min: 7.2 max: 9.92\n",
      "------------------\n",
      "Research 2 min: 0 max: 1\n",
      "[0 1]\n",
      "[201 249]\n",
      "------------------\n",
      "Chance of Admit 60 min: 0.34 max: 0.97\n",
      "------------------\n",
      "Datframe size: 450\n",
      "<class 'pandas.core.frame.DataFrame'>\n",
      "RangeIndex: 450 entries, 0 to 449\n",
      "Data columns (total 8 columns):\n",
      "GRE Score            450 non-null int64\n",
      "TOEFL Score          450 non-null int64\n",
      "University Rating    450 non-null int64\n",
      "SOP                  450 non-null float64\n",
      "LOR                  450 non-null float64\n",
      "CGPA                 450 non-null float64\n",
      "Research             450 non-null int64\n",
      "Chance of Admit      450 non-null float64\n",
      "dtypes: float64(4), int64(4)\n",
      "memory usage: 28.2 KB\n"
     ]
    }
   ],
   "source": [
    "# inspect data to get insights\n",
    "inspect_data(df)\n",
    "df.info()"
   ]
  },
  {
   "cell_type": "code",
   "execution_count": 5,
   "metadata": {},
   "outputs": [],
   "source": [
    "# add a column for x0 containing all Ones\n",
    "df = df.assign(x0=pd.Series(np.ones(len(df))).values)\n",
    "\n",
    "# TODO: make x0 the first column\n",
    "columns = df.columns.tolist()\n",
    "columns.remove('x0')\n",
    "df = df[['x0'] + columns]"
   ]
  },
  {
   "cell_type": "code",
   "execution_count": 6,
   "metadata": {},
   "outputs": [
    {
     "data": {
      "text/html": [
       "<div>\n",
       "<style scoped>\n",
       "    .dataframe tbody tr th:only-of-type {\n",
       "        vertical-align: middle;\n",
       "    }\n",
       "\n",
       "    .dataframe tbody tr th {\n",
       "        vertical-align: top;\n",
       "    }\n",
       "\n",
       "    .dataframe thead th {\n",
       "        text-align: right;\n",
       "    }\n",
       "</style>\n",
       "<table border=\"1\" class=\"dataframe\">\n",
       "  <thead>\n",
       "    <tr style=\"text-align: right;\">\n",
       "      <th></th>\n",
       "      <th>x0</th>\n",
       "      <th>GRE Score</th>\n",
       "      <th>TOEFL Score</th>\n",
       "      <th>University Rating</th>\n",
       "      <th>SOP</th>\n",
       "      <th>LOR</th>\n",
       "      <th>CGPA</th>\n",
       "      <th>Research</th>\n",
       "      <th>Chance of Admit</th>\n",
       "    </tr>\n",
       "  </thead>\n",
       "  <tbody>\n",
       "    <tr>\n",
       "      <th>0</th>\n",
       "      <td>1.0</td>\n",
       "      <td>317</td>\n",
       "      <td>103</td>\n",
       "      <td>2</td>\n",
       "      <td>2.5</td>\n",
       "      <td>2.0</td>\n",
       "      <td>8.15</td>\n",
       "      <td>0</td>\n",
       "      <td>0.65</td>\n",
       "    </tr>\n",
       "    <tr>\n",
       "      <th>1</th>\n",
       "      <td>1.0</td>\n",
       "      <td>319</td>\n",
       "      <td>108</td>\n",
       "      <td>3</td>\n",
       "      <td>3.0</td>\n",
       "      <td>3.5</td>\n",
       "      <td>8.54</td>\n",
       "      <td>1</td>\n",
       "      <td>0.71</td>\n",
       "    </tr>\n",
       "    <tr>\n",
       "      <th>2</th>\n",
       "      <td>1.0</td>\n",
       "      <td>322</td>\n",
       "      <td>110</td>\n",
       "      <td>3</td>\n",
       "      <td>3.5</td>\n",
       "      <td>2.5</td>\n",
       "      <td>8.67</td>\n",
       "      <td>1</td>\n",
       "      <td>0.80</td>\n",
       "    </tr>\n",
       "  </tbody>\n",
       "</table>\n",
       "</div>"
      ],
      "text/plain": [
       "    x0  GRE Score  TOEFL Score  University Rating  SOP  LOR   CGPA  Research  \\\n",
       "0  1.0        317          103                  2  2.5   2.0  8.15         0   \n",
       "1  1.0        319          108                  3  3.0   3.5  8.54         1   \n",
       "2  1.0        322          110                  3  3.5   2.5  8.67         1   \n",
       "\n",
       "   Chance of Admit  \n",
       "0             0.65  \n",
       "1             0.71  \n",
       "2             0.80  "
      ]
     },
     "execution_count": 6,
     "metadata": {},
     "output_type": "execute_result"
    }
   ],
   "source": [
    "df.head(3)"
   ]
  },
  {
   "cell_type": "code",
   "execution_count": 7,
   "metadata": {},
   "outputs": [],
   "source": [
    "import random\n",
    "\n",
    "def train_test_split(X, y, test_size, random_state=None):\n",
    "    \"\"\"Splits data into training and testing sets.\n",
    "    test_size must be fractional eg 0.2 for 20% split\"\"\"\n",
    "\n",
    "    if random_state is not None:\n",
    "        # Seed to generate same pseudo-random numbers everytime to make it reproducible.\n",
    "        random.seed(random_state)\n",
    "\n",
    "    test_size = round(test_size * len(X))  # change proportion to actual number of rows\n",
    "\n",
    "    indices = X.index.tolist()\n",
    "    test_indices = random.sample(population=indices, k=test_size)\n",
    "\n",
    "    X_test = X.loc[test_indices, :]\n",
    "    y_test = y.loc[test_indices] \n",
    "    X_train = X.drop(test_indices)\n",
    "    y_train = y.drop(test_indices)\n",
    "\n",
    "    return X_train, X_test, y_train, y_test\n"
   ]
  },
  {
   "cell_type": "code",
   "execution_count": null,
   "metadata": {},
   "outputs": [],
   "source": []
  },
  {
   "cell_type": "code",
   "execution_count": 8,
   "metadata": {
    "scrolled": false
   },
   "outputs": [],
   "source": [
    "X = df.drop([\"Chance of Admit\"], axis=1)\n",
    "y = df[\"Chance of Admit\"]\n"
   ]
  },
  {
   "cell_type": "code",
   "execution_count": null,
   "metadata": {},
   "outputs": [],
   "source": []
  },
  {
   "cell_type": "code",
   "execution_count": 9,
   "metadata": {},
   "outputs": [],
   "source": [
    "X_train, X_validate, y_train, y_validate = train_test_split(X, y, test_size=0.2, random_state=1)"
   ]
  },
  {
   "cell_type": "code",
   "execution_count": null,
   "metadata": {},
   "outputs": [],
   "source": []
  },
  {
   "cell_type": "code",
   "execution_count": 10,
   "metadata": {},
   "outputs": [],
   "source": [
    "n = len(X_train.columns) # number of columns\n",
    "# convert X and y from dataframe to numpy ndarrays\n",
    "X_train = X_train.values\n",
    "y_train = y_train.values\n",
    "X_validate = X_validate.values\n",
    "\n",
    "y_validate = y_validate.values\n",
    "\n",
    "# make y a vector(1d column) \n",
    "y_train = np.reshape(y_train, (len(y_train), 1))"
   ]
  },
  {
   "cell_type": "code",
   "execution_count": 21,
   "metadata": {},
   "outputs": [],
   "source": [
    "def compute_cost(X, y, theta):\n",
    "    \"\"\"compute_cost(X, y, theta) computes the cost of using theta as the\n",
    "    parameter for linear regression to fit the data points in X and y\"\"\"\n",
    "\n",
    "    m = len(y) # number of training examples\n",
    "    \n",
    "    H = np.matmul(X, theta)  # H = hypothesis\n",
    "    J = (1 / (2*m)) * (sum((H - y) ** 2))  # J = Cost function\n",
    "\n",
    "    return J"
   ]
  },
  {
   "cell_type": "code",
   "execution_count": 22,
   "metadata": {},
   "outputs": [],
   "source": [
    "def gradient_descent(X, y, theta, alpha, num_iters):\n",
    "    \"\"\"Performs gradient descent to learn theta\n",
    "       theta = gradient_descent(x, y, theta, alpha, num_iters) updates theta by\n",
    "       taking num_iters gradient steps with learning rate alpha\n",
    "    \"\"\"\n",
    "    m = len(y) # number of training examples\n",
    "    costs = np.zeros(num_iters)\n",
    "\n",
    "    for it in range(num_iters):\n",
    "        H = np.matmul(X, theta)\n",
    "        delta = (1/m) * np.matmul(X.T , (H - y))\n",
    "        \n",
    "        theta = theta - (alpha * delta)\n",
    "        \n",
    "        costs[it] = compute_cost(X, y, theta)\n",
    "        \n",
    "    return theta, costs\n"
   ]
  },
  {
   "cell_type": "code",
   "execution_count": 23,
   "metadata": {
    "scrolled": false
   },
   "outputs": [],
   "source": [
    "theta = np.zeros((n,1))\n",
    "iterations = 200\n",
    "alpha = 0.0000003"
   ]
  },
  {
   "cell_type": "code",
   "execution_count": 24,
   "metadata": {
    "scrolled": false
   },
   "outputs": [],
   "source": [
    "theta, costs = gradient_descent(X_train, y_train, theta, alpha, iterations)"
   ]
  },
  {
   "cell_type": "code",
   "execution_count": 25,
   "metadata": {
    "scrolled": false
   },
   "outputs": [
    {
     "data": {
      "text/plain": [
       "<seaborn.axisgrid.FacetGrid at 0x7fa82f064128>"
      ]
     },
     "execution_count": 25,
     "metadata": {},
     "output_type": "execute_result"
    },
    {
     "data": {
      "image/png": "[encoded data removed]",
      "text/plain": [
       "<Figure size 432x432 with 1 Axes>"
      ]
     },
     "metadata": {
      "needs_background": "light"
     },
     "output_type": "display_data"
    }
   ],
   "source": [
    "plotdf = pd.DataFrame(data=list(zip(range(1,len(costs)+1),costs)), columns=[\"index\",\"cost\"])\n",
    "sns.relplot( y=\"cost\", x=\"index\", kind=\"line\", data=plotdf, height=6)"
   ]
  },
  {
   "cell_type": "code",
   "execution_count": 26,
   "metadata": {},
   "outputs": [
    {
     "data": {
      "text/plain": [
       "array([0.00717474, 0.00717469, 0.00717463, 0.00717459, 0.00717454,\n",
       "       0.0071745 , 0.00717445, 0.00717441, 0.00717437])"
      ]
     },
     "execution_count": 26,
     "metadata": {},
     "output_type": "execute_result"
    }
   ],
   "source": [
    "costs[-10:-1]"
   ]
  },
  {
   "cell_type": "code",
   "execution_count": 27,
   "metadata": {},
   "outputs": [],
   "source": [
    "# predict probabilities of X_validate data\n",
    "y_pred = np.matmul(X_validate, theta)[:,0]\n",
    "y_pred = np.around(y_pred, decimals=2)"
   ]
  },
  {
   "cell_type": "code",
   "execution_count": 28,
   "metadata": {},
   "outputs": [
    {
     "name": "stdout",
     "output_type": "stream",
     "text": [
      "[0.7  0.78 0.71 0.71 0.7  0.73 0.72 0.72 0.75 0.74]\n",
      "[0.58 0.96 0.7  0.64 0.69 0.67 0.49 0.71 0.76 0.81]\n"
     ]
    }
   ],
   "source": [
    "print(y_pred[:10])\n",
    "print(y_validate[:10])"
   ]
  },
  {
   "cell_type": "code",
   "execution_count": 29,
   "metadata": {},
   "outputs": [
    {
     "data": {
      "text/plain": [
       "array([-0.12,  0.18, -0.01, -0.07, -0.01, -0.06, -0.23, -0.01,  0.01,\n",
       "        0.07, -0.04, -0.07, -0.23,  0.03, -0.15,  0.  ,  0.01,  0.02,\n",
       "        0.19, -0.23,  0.02,  0.07,  0.13, -0.14,  0.13, -0.02,  0.01,\n",
       "        0.02, -0.08, -0.07, -0.01, -0.26, -0.01,  0.17, -0.11,  0.01,\n",
       "        0.18,  0.05,  0.  , -0.08,  0.01, -0.04, -0.02,  0.1 ,  0.04,\n",
       "       -0.02, -0.01,  0.08, -0.07, -0.03,  0.19,  0.03, -0.01,  0.15,\n",
       "       -0.11, -0.09,  0.01, -0.11, -0.34, -0.05,  0.12, -0.22, -0.13,\n",
       "       -0.11,  0.09, -0.08,  0.19, -0.32, -0.19, -0.14,  0.15,  0.07,\n",
       "        0.18,  0.05,  0.11,  0.16,  0.19, -0.07,  0.1 , -0.15,  0.  ,\n",
       "        0.  ,  0.05, -0.13,  0.17, -0.13,  0.04,  0.05,  0.  , -0.18])"
      ]
     },
     "execution_count": 29,
     "metadata": {},
     "output_type": "execute_result"
    }
   ],
   "source": [
    "(y_validate - y_pred)"
   ]
  },
  {
   "cell_type": "code",
   "execution_count": 30,
   "metadata": {},
   "outputs": [
    {
     "data": {
      "text/plain": [
       "array([[6.27543094e-06],\n",
       "       [2.05012427e-03],\n",
       "       [7.06055714e-04],\n",
       "       [2.54806519e-05],\n",
       "       [2.61268485e-05],\n",
       "       [2.62924282e-05],\n",
       "       [5.75907492e-05],\n",
       "       [5.45707458e-06]])"
      ]
     },
     "execution_count": 30,
     "metadata": {},
     "output_type": "execute_result"
    }
   ],
   "source": [
    "theta"
   ]
  },
  {
   "cell_type": "code",
   "execution_count": null,
   "metadata": {},
   "outputs": [],
   "source": []
  },
  {
   "cell_type": "code",
   "execution_count": null,
   "metadata": {},
   "outputs": [],
   "source": []
  }
 ],
 "metadata": {
  "kernelspec": {
   "display_name": "Python 3",
   "language": "python",
   "name": "python3"
  },
  "language_info": {
   "codemirror_mode": {
    "name": "ipython",
    "version": 3
   },
   "file_extension": ".py",
   "mimetype": "text/x-python",
   "name": "python",
   "nbconvert_exporter": "python",
   "pygments_lexer": "ipython3",
   "version": "3.7.1"
  }
 },
 "nbformat": 4,
 "nbformat_minor": 2
}
