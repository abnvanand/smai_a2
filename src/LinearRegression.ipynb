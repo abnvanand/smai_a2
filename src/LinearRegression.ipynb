{
 "cells": [
  {
   "cell_type": "markdown",
   "metadata": {},
   "source": [
    "# 3. (20 points)\n",
    "We are given a dataset containing various criteria important to get admissions into Master’s program and probablity of getting an admit.\n",
    "Dataset is available at http://preon.iiit.ac.in/~sanjoy_chowdhury/AdmissionDataset.zip\n",
    "\n",
    "- Q1. Implement a model using linear regression to predict the probablity of getting the admit.(10 points)\n",
    "- Q2. Compare the performance of **Mean square error loss function** vs **Mean Absolute error function** vs **Mean absolute percentage error function** and explain the reasons for the observed behaviour.(5 points)\n",
    "- Q3. Analyse and report the behaviour of the coefficients(for example: sign of coefficients, value of coefficients etc.) and support it with appropriate plots as necessary(5 points)"
   ]
  },
  {
   "cell_type": "code",
   "execution_count": 1,
   "metadata": {},
   "outputs": [],
   "source": [
    "import numpy as np\n",
    "import pandas as pd\n",
    "import matplotlib.pyplot as plt\n",
    "import seaborn as sns\n",
    "\n",
    "from utils.datatools import inspect_data"
   ]
  },
  {
   "cell_type": "code",
   "execution_count": 2,
   "metadata": {},
   "outputs": [],
   "source": [
    "def read_csv(file_path):    \n",
    "    df = pd.read_csv(file_path)\n",
    "\n",
    "    # we do not need Serial No. column\n",
    "    df.drop(['Serial No.'], axis=1, inplace=True)\n",
    "\n",
    "    df = df.rename(columns={\"Chance of Admit \": \"Chance of Admit\"}) \n",
    "\n",
    "    return df\n",
    "\n",
    "df = read_csv(\"../data/admission/data.csv\")"
   ]
  },
  {
   "cell_type": "code",
   "execution_count": 3,
   "metadata": {},
   "outputs": [
    {
     "data": {
      "text/html": [
       "<div>\n",
       "<style scoped>\n",
       "    .dataframe tbody tr th:only-of-type {\n",
       "        vertical-align: middle;\n",
       "    }\n",
       "\n",
       "    .dataframe tbody tr th {\n",
       "        vertical-align: top;\n",
       "    }\n",
       "\n",
       "    .dataframe thead th {\n",
       "        text-align: right;\n",
       "    }\n",
       "</style>\n",
       "<table border=\"1\" class=\"dataframe\">\n",
       "  <thead>\n",
       "    <tr style=\"text-align: right;\">\n",
       "      <th></th>\n",
       "      <th>GRE Score</th>\n",
       "      <th>TOEFL Score</th>\n",
       "      <th>University Rating</th>\n",
       "      <th>SOP</th>\n",
       "      <th>LOR</th>\n",
       "      <th>CGPA</th>\n",
       "      <th>Research</th>\n",
       "      <th>Chance of Admit</th>\n",
       "    </tr>\n",
       "  </thead>\n",
       "  <tbody>\n",
       "    <tr>\n",
       "      <th>0</th>\n",
       "      <td>317</td>\n",
       "      <td>103</td>\n",
       "      <td>2</td>\n",
       "      <td>2.5</td>\n",
       "      <td>2.0</td>\n",
       "      <td>8.15</td>\n",
       "      <td>0</td>\n",
       "      <td>0.65</td>\n",
       "    </tr>\n",
       "  </tbody>\n",
       "</table>\n",
       "</div>"
      ],
      "text/plain": [
       "   GRE Score  TOEFL Score  University Rating  SOP  LOR   CGPA  Research  \\\n",
       "0        317          103                  2  2.5   2.0  8.15         0   \n",
       "\n",
       "   Chance of Admit  \n",
       "0             0.65  "
      ]
     },
     "execution_count": 3,
     "metadata": {},
     "output_type": "execute_result"
    }
   ],
   "source": [
    "df.head(1)"
   ]
  },
  {
   "cell_type": "markdown",
   "metadata": {},
   "source": [
    "# inspect data to get insights\n"
   ]
  },
  {
   "cell_type": "code",
   "execution_count": 4,
   "metadata": {},
   "outputs": [
    {
     "name": "stdout",
     "output_type": "stream",
     "text": [
      "GRE Score 49 min: 290 max: 340\n",
      "------------------\n",
      "TOEFL Score 29 min: 92 max: 120\n",
      "------------------\n",
      "University Rating 5 min: 1 max: 5\n",
      "[1 2 3 4 5]\n",
      "[ 28 116 144  95  67]\n",
      "------------------\n",
      "SOP 9 min: 1.0 max: 5.0\n",
      "[1.  1.5 2.  2.5 3.  3.5 4.  4.5 5. ]\n",
      "[ 5 25 40 54 74 79 80 57 36]\n",
      "------------------\n",
      "LOR  9 min: 1.0 max: 5.0\n",
      "[1.  1.5 2.  2.5 3.  3.5 4.  4.5 5. ]\n",
      "[ 1  9 43 47 86 83 83 55 43]\n",
      "------------------\n",
      "CGPA 177 min: 7.2 max: 9.92\n",
      "------------------\n",
      "Research 2 min: 0 max: 1\n",
      "[0 1]\n",
      "[201 249]\n",
      "------------------\n",
      "Chance of Admit 60 min: 0.34 max: 0.97\n",
      "------------------\n",
      "Datframe size: 450\n",
      "<class 'pandas.core.frame.DataFrame'>\n",
      "RangeIndex: 450 entries, 0 to 449\n",
      "Data columns (total 8 columns):\n",
      "GRE Score            450 non-null int64\n",
      "TOEFL Score          450 non-null int64\n",
      "University Rating    450 non-null int64\n",
      "SOP                  450 non-null float64\n",
      "LOR                  450 non-null float64\n",
      "CGPA                 450 non-null float64\n",
      "Research             450 non-null int64\n",
      "Chance of Admit      450 non-null float64\n",
      "dtypes: float64(4), int64(4)\n",
      "memory usage: 28.2 KB\n"
     ]
    }
   ],
   "source": [
    "inspect_data(df)\n",
    "df.info()"
   ]
  },
  {
   "cell_type": "markdown",
   "metadata": {},
   "source": [
    "# Split data into training and validation parts"
   ]
  },
  {
   "cell_type": "code",
   "execution_count": 5,
   "metadata": {},
   "outputs": [],
   "source": [
    "import random\n",
    "\n",
    "def train_test_split(X, y, test_size, random_state=None):\n",
    "    \"\"\"Splits data into training and testing sets with separate feature and label columns\n",
    "    test_size must be fractional eg 0.2 for 20% split\"\"\"\n",
    "\n",
    "    if random_state is not None:\n",
    "        # Seed to generate same pseudo-random numbers everytime to make it reproducible.\n",
    "        random.seed(random_state)\n",
    "\n",
    "    test_size = round(test_size * len(X))  # change proportion to actual number of rows\n",
    "\n",
    "    indices = X.index.tolist()\n",
    "    test_indices = random.sample(population=indices, k=test_size)\n",
    "\n",
    "    X_test = X.loc[test_indices, :]\n",
    "    y_test = y.loc[test_indices] \n",
    "    X_train = X.drop(test_indices)\n",
    "    y_train = y.drop(test_indices)\n",
    "\n",
    "    return X_train, X_test, y_train, y_test\n"
   ]
  },
  {
   "cell_type": "code",
   "execution_count": 6,
   "metadata": {
    "scrolled": false
   },
   "outputs": [],
   "source": [
    "X = df.drop([\"Chance of Admit\"], axis=1)\n",
    "y = df[\"Chance of Admit\"]"
   ]
  },
  {
   "cell_type": "code",
   "execution_count": 7,
   "metadata": {},
   "outputs": [],
   "source": [
    "X_train, X_validate, y_train, y_validate = train_test_split(X, y, test_size=0.2, random_state=1)"
   ]
  },
  {
   "cell_type": "code",
   "execution_count": null,
   "metadata": {},
   "outputs": [],
   "source": []
  },
  {
   "cell_type": "markdown",
   "metadata": {},
   "source": [
    "### Add x0 column containing all ones"
   ]
  },
  {
   "cell_type": "code",
   "execution_count": 8,
   "metadata": {},
   "outputs": [],
   "source": [
    "def add_x0_column(df):\n",
    "    # add a column for x0 containing all Ones\n",
    "    df = df.assign(x0=pd.Series(np.ones(len(df))).values)\n",
    "\n",
    "    # make x0 the first column\n",
    "    columns = df.columns.tolist()\n",
    "    columns.remove('x0')\n",
    "    df = df[['x0'] + columns]\n",
    "    \n",
    "    return df\n",
    "\n",
    "\n",
    "# add a column for x0 containing all Ones\n",
    "X_train = add_x0_column(X_train)\n",
    "\n",
    "# add a column for x0 containing all Ones\n",
    "X_validate = add_x0_column(X_validate)\n"
   ]
  },
  {
   "cell_type": "code",
   "execution_count": null,
   "metadata": {},
   "outputs": [],
   "source": []
  },
  {
   "cell_type": "code",
   "execution_count": 9,
   "metadata": {},
   "outputs": [],
   "source": [
    "n = len(X_train.columns) # number of columns\n",
    "# convert X and y from dataframe to numpy ndarrays\n",
    "X_train_np = X_train.values\n",
    "y_train_np = y_train.values\n",
    "X_validate_np = X_validate.values\n",
    "\n",
    "y_validate_np = y_validate.values\n",
    "\n",
    "# make y a vector(1d column) \n",
    "y_train_np = np.reshape(y_train_np, (len(y_train_np), 1))"
   ]
  },
  {
   "cell_type": "code",
   "execution_count": null,
   "metadata": {},
   "outputs": [],
   "source": []
  },
  {
   "cell_type": "markdown",
   "metadata": {},
   "source": [
    "# Q1. Implement a model using linear regression to predict the probablity of getting the admit.\n"
   ]
  },
  {
   "cell_type": "markdown",
   "metadata": {},
   "source": [
    "# Using normal equation"
   ]
  },
  {
   "cell_type": "code",
   "execution_count": 10,
   "metadata": {},
   "outputs": [],
   "source": [
    "def normal_equation(X, y):\n",
    "    theta = np.dot(np.linalg.inv(np.dot(X.T, X)), np.dot(X.T,y)) \n",
    "    return theta\n",
    "\n",
    "\n",
    "def predict(X, theta):\n",
    "    y_pred = np.matmul(X, theta)[:,0]\n",
    "    y_pred = np.around(y_pred, decimals=2)\n",
    "    return y_pred"
   ]
  },
  {
   "cell_type": "code",
   "execution_count": 11,
   "metadata": {},
   "outputs": [
    {
     "data": {
      "text/plain": [
       "0.8141678059648589"
      ]
     },
     "execution_count": 11,
     "metadata": {},
     "output_type": "execute_result"
    }
   ],
   "source": [
    "theta = normal_equation(X_train_np, y_train_np)\n",
    "y_pred_np = predict(X_validate_np, theta)\n",
    "\n",
    "from sklearn.metrics import r2_score\n",
    "r2_score(y_validate_np, y_pred_np)"
   ]
  },
  {
   "cell_type": "code",
   "execution_count": 12,
   "metadata": {
    "scrolled": false
   },
   "outputs": [],
   "source": [
    "# adf = pd.DataFrame(y_validate_np, index=range(len(y_validate_np)), columns=[\"actual\"])\n",
    "# pdf = pd.DataFrame(y_pred_np,  index=range(len(y_validate_np)), columns=[\"predicted\"])\n",
    "\n",
    "# cdf = pd.concat([adf, pdf],axis=1)\n",
    "\n",
    "# sns.scatterplot(x=\"actual\", y=\"predicted\", data=cdf,   )"
   ]
  },
  {
   "cell_type": "code",
   "execution_count": null,
   "metadata": {},
   "outputs": [],
   "source": []
  },
  {
   "cell_type": "markdown",
   "metadata": {},
   "source": [
    "# Q2 Compare the performance of **Mean square error loss function** vs **Mean Absolute error function** vs **Mean absolute percentage error function** "
   ]
  },
  {
   "cell_type": "code",
   "execution_count": 13,
   "metadata": {},
   "outputs": [],
   "source": [
    "def mae(y_actual, y_pred):\n",
    "    n=len(y_actual)\n",
    "    \n",
    "    return (1 / n) * np.sum(np.absolute(y_actual - y_pred))\n",
    "\n",
    "\n",
    "def mse(y_actual, y_pred):\n",
    "    n=len(y_actual)\n",
    "    \n",
    "    return (1 / n) * np.sum((y_actual - y_pred)**2)\n",
    "\n",
    "\n",
    "def mape(y_actual, y_pred):\n",
    "    n = len(y_actual)\n",
    "    return np.sum(abs(y_actual-y_pred) / y_actual) * 100 / n\n",
    "# Using gradient descent"
   ]
  },
  {
   "cell_type": "code",
   "execution_count": 14,
   "metadata": {
    "scrolled": false
   },
   "outputs": [
    {
     "name": "stdout",
     "output_type": "stream",
     "text": [
      "Mean square error: 0.0036700000000000005\n",
      "Mean absolute error: 0.04455555555555556\n",
      "Mean absolute percentage error: 7.20%\n"
     ]
    }
   ],
   "source": [
    "print(\"Mean square error:\", mse(y_validate_np, y_pred_np))\n",
    "print(\"Mean absolute error:\", mae(y_validate_np, y_pred_np))\n",
    "print(\"Mean absolute percentage error:\", f'{mape(y_validate_np, y_pred_np):.2f}%')\n"
   ]
  },
  {
   "cell_type": "code",
   "execution_count": null,
   "metadata": {},
   "outputs": [],
   "source": []
  },
  {
   "cell_type": "markdown",
   "metadata": {},
   "source": [
    "# Q3. Analyse and report the behaviour of the coefficients(for example: sign of coefficients, value of coefficients etc.) and support it with appropriate plots as necessary"
   ]
  },
  {
   "cell_type": "code",
   "execution_count": 15,
   "metadata": {
    "scrolled": false
   },
   "outputs": [
    {
     "name": "stdout",
     "output_type": "stream",
     "text": [
      "GRE Score\n"
     ]
    },
    {
     "data": {
      "image/png": "[encoded data removed]",
      "text/plain": [
       "<Figure size 432x288 with 1 Axes>"
      ]
     },
     "metadata": {
      "needs_background": "light"
     },
     "output_type": "display_data"
    },
    {
     "name": "stdout",
     "output_type": "stream",
     "text": [
      "TOEFL Score\n"
     ]
    },
    {
     "data": {
      "image/png": "[encoded data removed]",
      "text/plain": [
       "<Figure size 432x288 with 1 Axes>"
      ]
     },
     "metadata": {
      "needs_background": "light"
     },
     "output_type": "display_data"
    },
    {
     "name": "stdout",
     "output_type": "stream",
     "text": [
      "University Rating\n"
     ]
    },
    {
     "data": {
      "image/png": "[encoded data removed]",
      "text/plain": [
       "<Figure size 432x288 with 1 Axes>"
      ]
     },
     "metadata": {
      "needs_background": "light"
     },
     "output_type": "display_data"
    },
    {
     "name": "stdout",
     "output_type": "stream",
     "text": [
      "SOP\n"
     ]
    },
    {
     "data": {
      "image/png": "[encoded data removed]",
      "text/plain": [
       "<Figure size 432x288 with 1 Axes>"
      ]
     },
     "metadata": {
      "needs_background": "light"
     },
     "output_type": "display_data"
    },
    {
     "name": "stdout",
     "output_type": "stream",
     "text": [
      "LOR \n"
     ]
    },
    {
     "data": {
      "image/png": "[encoded data removed]",
      "text/plain": [
       "<Figure size 432x288 with 1 Axes>"
      ]
     },
     "metadata": {
      "needs_background": "light"
     },
     "output_type": "display_data"
    },
    {
     "name": "stdout",
     "output_type": "stream",
     "text": [
      "CGPA\n"
     ]
    },
    {
     "data": {
      "image/png": "[encoded data removed]",
      "text/plain": [
       "<Figure size 432x288 with 1 Axes>"
      ]
     },
     "metadata": {
      "needs_background": "light"
     },
     "output_type": "display_data"
    },
    {
     "name": "stdout",
     "output_type": "stream",
     "text": [
      "Research\n"
     ]
    },
    {
     "data": {
      "image/png": "[encoded data removed]",
      "text/plain": [
       "<Figure size 432x288 with 1 Axes>"
      ]
     },
     "metadata": {
      "needs_background": "light"
     },
     "output_type": "display_data"
    }
   ],
   "source": [
    "def residual_plot(actual, predicted ,df):\n",
    "    for col in df:\n",
    "        if col not in ['Chance of Admit ','x0']:\n",
    "            print(col)\n",
    "            plt.scatter(df[col].tolist(), np.subtract(actual, predicted))\n",
    "            plt.show()\n",
    "    \n",
    "residual_plot(y_validate_np, y_pred_np, X_validate)\n"
   ]
  },
  {
   "cell_type": "markdown",
   "metadata": {},
   "source": [
    "# Load test data from supplied command line path"
   ]
  },
  {
   "cell_type": "code",
   "execution_count": 16,
   "metadata": {},
   "outputs": [
    {
     "name": "stdout",
     "output_type": "stream",
     "text": [
      "Please supply test file path\n",
      "Loading test data from: -f\n"
     ]
    }
   ],
   "source": [
    "import sys\n",
    "if len(sys.argv) != 2:\n",
    "    print(\"Please supply test file path\")\n",
    "    exit(1)\n",
    "\n",
    "test_file_path = sys.argv[1]\n",
    "print(\"Loading test data from:\", test_file_path)\n"
   ]
  },
  {
   "cell_type": "code",
   "execution_count": 17,
   "metadata": {},
   "outputs": [
    {
     "data": {
      "text/plain": [
       "0.8175123215510178"
      ]
     },
     "execution_count": 17,
     "metadata": {},
     "output_type": "execute_result"
    }
   ],
   "source": [
    "# STOPSHIP\n",
    "if test_file_path == \"-f\":\n",
    "    test_file_path = \"../data/admission/data.csv\"\n",
    "    \n",
    "test_df = read_csv(test_file_path)\n",
    "\n",
    "test_df = add_x0_column(test_df)\n",
    "\n",
    "X_test = test_df.drop([\"Chance of Admit\"], axis=1)\n",
    "y_test = test_df[\"Chance of Admit\"]\n",
    "\n",
    "y_pred = predict(X_test.values, theta)\n",
    "\n",
    "from sklearn.metrics import r2_score\n",
    "r2_score(y_test, y_pred)"
   ]
  },
  {
   "cell_type": "code",
   "execution_count": 18,
   "metadata": {},
   "outputs": [
    {
     "name": "stdout",
     "output_type": "stream",
     "text": [
      "Mean square error: 0.003640444444444444\n",
      "Mean absolute error: 0.04297777777777777\n",
      "Mean absolute percentage error: 6.91%\n"
     ]
    }
   ],
   "source": [
    "print(\"Mean square error:\", mse(y_test.values, y_pred))\n",
    "print(\"Mean absolute error:\", mae(y_test.values, y_pred))\n",
    "print(\"Mean absolute percentage error:\", f'{mape(y_test.values, y_pred):.2f}%')\n"
   ]
  },
  {
   "cell_type": "code",
   "execution_count": null,
   "metadata": {},
   "outputs": [],
   "source": []
  }
 ],
 "metadata": {
  "kernelspec": {
   "display_name": "Python 3",
   "language": "python",
   "name": "python3"
  },
  "language_info": {
   "codemirror_mode": {
    "name": "ipython",
    "version": 3
   },
   "file_extension": ".py",
   "mimetype": "text/x-python",
   "name": "python",
   "nbconvert_exporter": "python",
   "pygments_lexer": "ipython3",
   "version": "3.7.1"
  }
 },
 "nbformat": 4,
 "nbformat_minor": 2
}
