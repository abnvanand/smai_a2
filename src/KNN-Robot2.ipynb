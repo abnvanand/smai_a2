{
 "cells": [
  {
   "cell_type": "markdown",
   "metadata": {},
   "source": [
    "## 1 Robot2\n",
    "- Q1.1 Implement a KNN classifier.\n",
    "- Q1.2 Report precision, recall, f1 score and accuracy.\n",
    "- Q1.3 Compare your result with in-built(scikit-learn) KNN function to check correctness of your algorithm.(10 points)\n",
    "\n",
    "- Q2.1 Use different distance measures as applicable. \n",
    "- Q2.2 Plot graph to report accuracy with change in value of K. Also suggest possible reason for better performance."
   ]
  },
  {
   "cell_type": "code",
   "execution_count": 1,
   "metadata": {},
   "outputs": [],
   "source": [
    "import numpy as np\n",
    "import pandas as pd\n",
    "import matplotlib.pyplot as plt\n",
    "import seaborn as sns\n",
    "\n",
    "from utils.datatools import train_test_split\n",
    "from utils.metrics import precision, recall, f1_score, accuracy\n",
    "from utils.distance_measures import *\n",
    "from utils.plotter import *\n",
    "\n",
    "from utils.knn import get_k_nearest_neighbours, best_class, classify_example, predict"
   ]
  },
  {
   "cell_type": "markdown",
   "metadata": {},
   "source": [
    "### Read csv file"
   ]
  },
  {
   "cell_type": "code",
   "execution_count": 2,
   "metadata": {},
   "outputs": [],
   "source": [
    "def read_csv(file_path):\n",
    "    df = pd.read_csv(file_path, header=None, sep=' ').dropna(axis=1, how='all')\n",
    "    # add column names header\n",
    "    df.columns = [\"class\", \"a1\", \"a2\", \"a3\", \"a4\", \"a5\", \"a6\", \"Id\"]\n",
    "\n",
    "    # we do not need Id column\n",
    "    df.drop(['Id'], axis=1, inplace=True)\n",
    "\n",
    "    # make class label the last column \n",
    "    cols = df.columns.tolist()\n",
    "    cols.remove(\"class\")\n",
    "    df = df[cols +[\"class\"]]\n",
    "\n",
    "    target = \"label\"\n",
    "    # rename the column whose value is to be predicted to \"label\"\n",
    "    df = df.rename(columns={\"class\": target}) \n",
    "\n",
    "    df.head(3)\n",
    "    \n",
    "    return df\n",
    "    \n",
    "df = read_csv(\"../data/robot/Robot2\")"
   ]
  },
  {
   "cell_type": "markdown",
   "metadata": {},
   "source": [
    "# Q1.1 Implement a KNN classifier."
   ]
  },
  {
   "cell_type": "code",
   "execution_count": 3,
   "metadata": {
    "scrolled": false
   },
   "outputs": [],
   "source": [
    "number_of_neighbours = 7\n",
    "\n",
    "train_df, validate_df = train_test_split(df, test_size = 0.2, random_state=1)\n",
    "\n",
    "predictions = predict(validate_df, train_df, k=number_of_neighbours, distance_measure_algo=euclidean_distance)\n",
    "\n",
    "actual = validate_df[\"label\"]\n",
    "\n",
    "combined_df = pd.concat([actual, predictions],axis=1)\n",
    "\n"
   ]
  },
  {
   "cell_type": "markdown",
   "metadata": {},
   "source": [
    " # Q1.2 Report precision, recall, f1_score and accuracy"
   ]
  },
  {
   "cell_type": "code",
   "execution_count": 4,
   "metadata": {},
   "outputs": [
    {
     "name": "stdout",
     "output_type": "stream",
     "text": [
      "precision 0.9285714285714286\n",
      "recall 0.8125\n",
      "f1_score 0.8666666666666666\n",
      "accuracy 0.8333333333333334\n"
     ]
    },
    {
     "data": {
      "image/png": "[encoded data removed]",
      "text/plain": [
       "<Figure size 432x288 with 2 Axes>"
      ]
     },
     "metadata": {
      "needs_background": "light"
     },
     "output_type": "display_data"
    }
   ],
   "source": [
    "print(\"precision\", precision(combined_df, 1))\n",
    "\n",
    "print(\"recall\", recall(combined_df, 1))\n",
    "\n",
    "print(\"f1_score\", f1_score(combined_df, 1))\n",
    "\n",
    "print(\"accuracy\", accuracy(combined_df))\n",
    "\n",
    "plot_confusion_heatmap(combined_df, xticks_rotation=0)"
   ]
  },
  {
   "cell_type": "markdown",
   "metadata": {},
   "source": [
    "# Q1.3 Compare your result with in-built(scikit-learn) KNN function to check correctness of your algorithm"
   ]
  },
  {
   "cell_type": "markdown",
   "metadata": {},
   "source": [
    "# Comparison with sklearn"
   ]
  },
  {
   "cell_type": "code",
   "execution_count": 5,
   "metadata": {},
   "outputs": [
    {
     "data": {
      "text/plain": [
       "0.8333333333333334"
      ]
     },
     "execution_count": 5,
     "metadata": {},
     "output_type": "execute_result"
    }
   ],
   "source": [
    "from sklearn.neighbors import KNeighborsClassifier\n",
    "from sklearn.metrics import accuracy_score\n",
    "\n",
    "X_train, y_train = train_df.drop([\"label\"], axis=1), train_df[\"label\"]\n",
    "X_test, y_test = validate_df.drop([\"label\"], axis=1), validate_df[\"label\"]\n",
    "\n",
    "model = KNeighborsClassifier(n_neighbors=number_of_neighbours)\n",
    "\n",
    "# Train the model using the training set\n",
    "model.fit(X_train, y_train)\n",
    "\n",
    "# Predict Output\n",
    "y_pred = model.predict(X_test)\n",
    "\n",
    "# Report accuracy\n",
    "accuracy_score(y_test, y_pred)"
   ]
  },
  {
   "cell_type": "markdown",
   "metadata": {},
   "source": [
    "# Q2.1 Use different distance measures as applicable."
   ]
  },
  {
   "cell_type": "markdown",
   "metadata": {},
   "source": [
    "## Using euclidean distance"
   ]
  },
  {
   "cell_type": "code",
   "execution_count": 6,
   "metadata": {},
   "outputs": [
    {
     "name": "stdout",
     "output_type": "stream",
     "text": [
      "accuracy 0.8333333333333334\n"
     ]
    }
   ],
   "source": [
    "predictions = predict(validate_df, train_df, k=number_of_neighbours, distance_measure_algo=euclidean_distance)\n",
    "actual = validate_df[\"label\"]\n",
    "combined_df = pd.concat([actual, predictions],axis=1)\n",
    "\n",
    "print(\"accuracy\", accuracy(combined_df))\n"
   ]
  },
  {
   "cell_type": "markdown",
   "metadata": {},
   "source": [
    "## Using Manhattan distance"
   ]
  },
  {
   "cell_type": "code",
   "execution_count": 7,
   "metadata": {},
   "outputs": [
    {
     "name": "stdout",
     "output_type": "stream",
     "text": [
      "accuracy 0.6666666666666666\n"
     ]
    }
   ],
   "source": [
    "predictions = predict(validate_df, train_df, k=number_of_neighbours, distance_measure_algo=manhattan_distance)\n",
    "actual = validate_df[\"label\"]\n",
    "combined_df = pd.concat([actual, predictions],axis=1)\n",
    "\n",
    "print(\"accuracy\", accuracy(combined_df))\n"
   ]
  },
  {
   "cell_type": "markdown",
   "metadata": {},
   "source": [
    "## Using Chebyshev distance"
   ]
  },
  {
   "cell_type": "code",
   "execution_count": 8,
   "metadata": {},
   "outputs": [
    {
     "name": "stdout",
     "output_type": "stream",
     "text": [
      "accuracy 0.75\n"
     ]
    }
   ],
   "source": [
    "predictions = predict(validate_df, train_df, k=number_of_neighbours, distance_measure_algo=chebyshev_distance)\n",
    "actual = validate_df[\"label\"]\n",
    "combined_df = pd.concat([actual, predictions],axis=1)\n",
    "\n",
    "print(\"accuracy\", accuracy(combined_df))\n"
   ]
  },
  {
   "cell_type": "markdown",
   "metadata": {},
   "source": [
    "## Using Cosine distance"
   ]
  },
  {
   "cell_type": "code",
   "execution_count": 9,
   "metadata": {},
   "outputs": [
    {
     "name": "stdout",
     "output_type": "stream",
     "text": [
      "accuracy 0.7083333333333334\n"
     ]
    }
   ],
   "source": [
    "predictions = predict(validate_df, train_df, k=number_of_neighbours, distance_measure_algo=cosine_distance)\n",
    "actual = validate_df[\"label\"]\n",
    "combined_df = pd.concat([actual, predictions],axis=1)\n",
    "\n",
    "print(\"accuracy\", accuracy(combined_df))\n"
   ]
  },
  {
   "cell_type": "markdown",
   "metadata": {},
   "source": [
    "### Plot for sklearn model"
   ]
  },
  {
   "cell_type": "code",
   "execution_count": 10,
   "metadata": {
    "scrolled": false
   },
   "outputs": [
    {
     "name": "stdout",
     "output_type": "stream",
     "text": [
      "1 0.875;\t2 0.7916666666666666;\t3 0.875;\t4 0.7916666666666666;\t5 0.8333333333333334;\t6 0.75;\t7 0.8333333333333334;\t8 0.6666666666666666;\t9 0.75;\t\n"
     ]
    },
    {
     "data": {
      "text/plain": [
       "<seaborn.axisgrid.FacetGrid at 0x7fe599a36a90>"
      ]
     },
     "execution_count": 10,
     "metadata": {},
     "output_type": "execute_result"
    },
    {
     "data": {
      "image/png": "[encoded data removed]",
      "text/plain": [
       "<Figure size 432x432 with 1 Axes>"
      ]
     },
     "metadata": {
      "needs_background": "light"
     },
     "output_type": "display_data"
    }
   ],
   "source": [
    "from math import sqrt, floor\n",
    "accuracies = []\n",
    "n_samples = floor(sqrt(len(train_df)))\n",
    "X_train, y_train = train_df.drop([\"label\"], axis=1), train_df[\"label\"]\n",
    "X_test, y_test = validate_df.drop([\"label\"], axis=1), validate_df[\"label\"]\n",
    "\n",
    "for k in range(1, n_samples+1):\n",
    "    model = KNeighborsClassifier(n_neighbors=k)\n",
    "    model.fit(X_train, y_train)\n",
    "    y_pred = model.predict(X_test)\n",
    "    accu = accuracy_score(y_test, y_pred)\n",
    "    print(k, accu, end=\";\\t\")\n",
    "    accuracies.append((k, accu))\n",
    "\n",
    "print()\n",
    "plotdf = pd.DataFrame(accuracies, index=range(n_samples), columns=[\"number of neighbours\", \"accuracy\"])\n",
    "sns.relplot( y=\"accuracy\", x=\"number of neighbours\", kind=\"line\", data=plotdf, height=6)\n"
   ]
  },
  {
   "cell_type": "markdown",
   "metadata": {},
   "source": [
    "# Q2.2 Plot graph to report accuracy with change in value of K. Also suggest possible reason for better performance."
   ]
  },
  {
   "cell_type": "markdown",
   "metadata": {},
   "source": [
    "### Plot for our KNN implementation"
   ]
  },
  {
   "cell_type": "code",
   "execution_count": 11,
   "metadata": {
    "scrolled": false
   },
   "outputs": [
    {
     "name": "stdout",
     "output_type": "stream",
     "text": [
      "1 0.8333333333333334;\t2 0.8333333333333334;\t3 0.7916666666666666;\t4 0.75;\t5 0.8333333333333334;\t6 0.75;\t7 0.8333333333333334;\t8 0.7083333333333334;\t9 0.7083333333333334;\t\n"
     ]
    },
    {
     "data": {
      "text/plain": [
       "<seaborn.axisgrid.FacetGrid at 0x7fe5876dc630>"
      ]
     },
     "execution_count": 11,
     "metadata": {},
     "output_type": "execute_result"
    },
    {
     "data": {
      "image/png": "[encoded data removed]",
      "text/plain": [
       "<Figure size 432x432 with 1 Axes>"
      ]
     },
     "metadata": {
      "needs_background": "light"
     },
     "output_type": "display_data"
    }
   ],
   "source": [
    "from math import sqrt, floor\n",
    "accuracies = []\n",
    "n_samples = floor(sqrt(len(train_df)))\n",
    "\n",
    "for k in range(1, n_samples + 1):\n",
    "    predictions = predict(validate_df, train_df, k, euclidean_distance)\n",
    "    actual = validate_df[\"label\"]\n",
    "    combined_df = pd.concat([actual, predictions], axis=1)\n",
    "    accu = accuracy(combined_df)\n",
    "    print(k, accu, end=\";\\t\")\n",
    "    accuracies.append((k, accu))\n",
    "    \n",
    "print()\n",
    "plotdf = pd.DataFrame(accuracies, index=range(n_samples), columns=[\"number of neighbours\", \"accuracy\"])\n",
    "sns.relplot( y=\"accuracy\", x=\"number of neighbours\", kind=\"line\", data=plotdf, height=6)\n"
   ]
  },
  {
   "cell_type": "markdown",
   "metadata": {},
   "source": [
    "# Load test data from supplied command line path"
   ]
  },
  {
   "cell_type": "code",
   "execution_count": 12,
   "metadata": {},
   "outputs": [
    {
     "name": "stdout",
     "output_type": "stream",
     "text": [
      "Please supply test file path\n",
      "Loading test data from: -f\n"
     ]
    }
   ],
   "source": [
    "import sys\n",
    "if len(sys.argv) != 2:\n",
    "    print(\"Please supply test file path\")\n",
    "    exit(1)\n",
    "\n",
    "test_file_path = sys.argv[1]\n",
    "print(\"Loading test data from:\", test_file_path)\n"
   ]
  },
  {
   "cell_type": "code",
   "execution_count": 13,
   "metadata": {},
   "outputs": [
    {
     "name": "stdout",
     "output_type": "stream",
     "text": [
      "precision 1.0\n",
      "recall 0.7333333333333333\n",
      "f1_score 0.846153846153846\n",
      "accuracy 0.8688524590163934\n"
     ]
    },
    {
     "data": {
      "image/png": "[encoded data removed]",
      "text/plain": [
       "<Figure size 432x288 with 2 Axes>"
      ]
     },
     "metadata": {
      "needs_background": "light"
     },
     "output_type": "display_data"
    }
   ],
   "source": [
    "# STOPSHIP\n",
    "if test_file_path == \"-f\":\n",
    "    test_file_path = \"../data/robot/Robot2\"\n",
    "    \n",
    "test_df = read_csv(test_file_path)\n",
    "\n",
    "predictions = predict(test_df, train_df, 5, cosine_distance)\n",
    "actual = test_df[\"label\"]\n",
    "combined_df = pd.concat([actual, predictions], axis=1)\n",
    "\n",
    "\n",
    "print(\"precision\", precision(combined_df, 1))\n",
    "\n",
    "print(\"recall\", recall(combined_df, 1))\n",
    "\n",
    "print(\"f1_score\", f1_score(combined_df, 1))\n",
    "\n",
    "print(\"accuracy\", accuracy(combined_df))\n",
    "\n",
    "plot_confusion_heatmap(combined_df, xticks_rotation=0)"
   ]
  },
  {
   "cell_type": "code",
   "execution_count": null,
   "metadata": {},
   "outputs": [],
   "source": []
  }
 ],
 "metadata": {
  "kernelspec": {
   "display_name": "Python 3",
   "language": "python",
   "name": "python3"
  },
  "language_info": {
   "codemirror_mode": {
    "name": "ipython",
    "version": 3
   },
   "file_extension": ".py",
   "mimetype": "text/x-python",
   "name": "python",
   "nbconvert_exporter": "python",
   "pygments_lexer": "ipython3",
   "version": "3.7.1"
  }
 },
 "nbformat": 4,
 "nbformat_minor": 2
}
