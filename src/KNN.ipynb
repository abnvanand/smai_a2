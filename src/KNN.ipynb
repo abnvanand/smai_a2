{
 "cells": [
  {
   "cell_type": "markdown",
   "metadata": {},
   "source": [
    "# 1. (20 points) \n",
    "## 1 Robot1 and Robot2\n",
    "Robot1 & Robot2 The robot problem is from artificial robot domain in which\n",
    "robots are described by 6 different attributes. The learning task is a binary clas-\n",
    "sification task. Perform modelling on both the datasets."
   ]
  },
  {
   "cell_type": "code",
   "execution_count": 1,
   "metadata": {},
   "outputs": [],
   "source": [
    "import numpy as np\n",
    "import pandas as pd\n",
    "import matplotlib.pyplot as plt\n",
    "import seaborn as sns\n",
    "\n",
    "from utils.datatools import train_test_split\n",
    "from utils.legacy_metrics import precision, recall, f1_score, accuracy"
   ]
  },
  {
   "cell_type": "markdown",
   "metadata": {},
   "source": [
    "## Helper Functions"
   ]
  },
  {
   "cell_type": "code",
   "execution_count": 2,
   "metadata": {},
   "outputs": [],
   "source": [
    "from math import sqrt\n",
    "def euclidean_dist(point1, point2, dims=None):\n",
    "    \"\"\"Returns the euclidean distance between to points, assumes both the points have equal no. of dimensions.\"\"\"\n",
    "    no_of_dimensions = dims if dims is not None else len(point1)\n",
    "    distance = 0\n",
    "\n",
    "    for i in range(no_of_dimensions):\n",
    "        distance += (point2[i] - point1[i]) ** 2\n",
    "    # TODO: take sqrt\n",
    "    return distance"
   ]
  },
  {
   "cell_type": "code",
   "execution_count": 3,
   "metadata": {},
   "outputs": [
    {
     "data": {
      "text/plain": [
       "0"
      ]
     },
     "execution_count": 3,
     "metadata": {},
     "output_type": "execute_result"
    }
   ],
   "source": [
    "euclidean_dist([0,0,0],[0,0,0])"
   ]
  },
  {
   "cell_type": "code",
   "execution_count": 4,
   "metadata": {},
   "outputs": [],
   "source": [
    "def get_k_nearest_neighbours(training_df, test_point, k):\n",
    "    dimensions = len(test_point) - 1  # -1 to not consider class label when calculating distance\n",
    "    dists = np.apply_along_axis(euclidean_dist, 1, training_df, test_point, dimensions)\n",
    "    distances = np.column_stack((dists, training_df))\n",
    "\n",
    "    distances = distances[distances[:,0].argsort()]\n",
    "    k_neighbours = distances[:k,1:]\n",
    "    return k_neighbours\n",
    "\n",
    "\n",
    "def get_k_nearest_neighbours_v2(training_df, test_point, k):\n",
    "    \"\"\"Returns k nearest neighbours of test_point, among training_points\"\"\"\n",
    "    training_points = training_df.values\n",
    "    distances = []\n",
    "    \n",
    "    dimensions = len(test_point) - 1  # -1 to not consider class label when calculating distance\n",
    "    for point in training_points: \n",
    "        distance = euclidean_dist(point, test_point, dimensions) \n",
    "        distances.append((distance, point)) # append as tuple: (distance, point) \n",
    "        \n",
    "    distances.sort(key=lambda x: x[0]) # sort the points by euclidean_distance\n",
    "    \n",
    "    neighbours = []\n",
    "    for i in range(k):\n",
    "        neighbours.append(distances[i][1])\n",
    "    \n",
    "    return np.array(neighbours)\n",
    "\n",
    "\n",
    "def best_class(neighbours):\n",
    "    \"\"\"Returns most prominent class label among the neighbours\"\"\"\n",
    "    class_labels = neighbours[:,-1]\n",
    "    unique_labels, counts = np.unique(class_labels, return_counts=True)\n",
    "    index = counts.argmax()\n",
    "    return unique_labels[index]"
   ]
  },
  {
   "cell_type": "code",
   "execution_count": 5,
   "metadata": {},
   "outputs": [],
   "source": [
    "def classify_example(example, training_df, k):\n",
    "    neighbours = get_k_nearest_neighbours_v2(training_df, example.values, k=k)\n",
    "    return best_class(neighbours)"
   ]
  },
  {
   "cell_type": "code",
   "execution_count": 6,
   "metadata": {},
   "outputs": [],
   "source": [
    "def predict(test_df, train_df, k):\n",
    "    predictions = test_df.apply(classify_example, axis=1, args=(train_df, k))\n",
    "    predictions.name=\"classification\"\n",
    "    return predictions"
   ]
  },
  {
   "cell_type": "code",
   "execution_count": 7,
   "metadata": {},
   "outputs": [],
   "source": [
    "def confusion_matrix(df):\n",
    "    \"\"\"Creates confusion matrix with true labels along rows and predicted labels along columns.\n",
    "    \n",
    "    Assumes df contains columns \"label\"=>True labels and \"classification\"=>Predicted labels\"\"\"\n",
    "    rows, true_counts = np.unique(df[\"label\"].values, return_counts=True)\n",
    "    cols, predicted_counts = np.unique(df[\"label\"].values, return_counts=True)\n",
    "    \n",
    "    matrix = np.ndarray(shape=(len(rows), len(cols)), dtype=float)\n",
    "    for ri, row in enumerate(rows):\n",
    "        for ci, col in enumerate(cols):\n",
    "            matrix[ri][ci] = len(df[(df.label == row) & (df.classification == col)])\n",
    "    \n",
    "    return matrix, rows, cols\n"
   ]
  },
  {
   "cell_type": "code",
   "execution_count": 8,
   "metadata": {},
   "outputs": [],
   "source": [
    "def plot_confusion_heatmap(df, xlabel='Predicted labels', ylabel='True labels', xticks_rotation=45, yticks_rotation=0,\n",
    "                           fontsize=14):\n",
    "    matrix, class_names, _ = confusion_matrix(df)\n",
    "\n",
    "    df_cm = pd.DataFrame(\n",
    "        matrix, index=class_names, columns=class_names,\n",
    "    )\n",
    "    heatmap = sns.heatmap(df_cm, annot=True, fmt='g')\n",
    "    heatmap.xaxis.set_ticklabels(heatmap.xaxis.get_ticklabels(), rotation=xticks_rotation, ha='right',\n",
    "                                 fontsize=fontsize)\n",
    "    heatmap.yaxis.set_ticklabels(heatmap.yaxis.get_ticklabels(), rotation=yticks_rotation, ha='right',\n",
    "                                 fontsize=fontsize)\n",
    "    plt.xlabel(xlabel)\n",
    "    plt.ylabel(ylabel)\n"
   ]
  },
  {
   "cell_type": "markdown",
   "metadata": {},
   "source": [
    "### Functions to measure model performance "
   ]
  },
  {
   "cell_type": "code",
   "execution_count": 9,
   "metadata": {},
   "outputs": [],
   "source": [
    "# Great explanation https://youtu.be/FAr2GmWNbT0\n",
    "def true_positive(cf, true_class_index):\n",
    "    return cf[true_class_index][true_class_index]\n",
    "\n",
    "\n",
    "def false_positive(cf, true_class_index):\n",
    "    column_sum = np.sum(cf, axis=0)[true_class_index]     \n",
    "    return column_sum - true_positive(cf, true_class_index)\n",
    "\n",
    "\n",
    "def false_negative(cf, true_class_index):\n",
    "    row_sum = np.sum(cf, axis=1)[true_class_index]     \n",
    "    return row_sum - true_positive(cf, true_class_index)\n",
    "\n",
    "\n",
    "def true_negative(cf, true_class_index):\n",
    "    matrix_sum = np.sum(cf)\n",
    "    row_sum = np.sum(cf, axis=1)[true_class_index]     \n",
    "    column_sum = np.sum(cf, axis=0)[true_class_index]\n",
    "    # using inclusion exclusion principle\n",
    "    return matrix_sum - row_sum - column_sum + true_positive(cf, true_class_index)\n",
    "\n",
    "\n",
    "def precision_(df, true_class):\n",
    "    # precision = TP / (TP+FP)\n",
    "    cf, class_labels, __ = confusion_matrix(df)\n",
    "    true_class_index = np.where(class_labels==true_class)[0][0]\n",
    "    TP = true_positive(cf, true_class_index)\n",
    "    FP = false_positive(cf, true_class_index)\n",
    "    return  TP / (TP + FP)\n",
    "\n",
    "\n",
    "def recall_(df, true_class):\n",
    "    # recall = TP / (TP + FN)\n",
    "    cf, class_labels, __ = confusion_matrix(df)\n",
    "    true_class_index = np.where(class_labels == true_class)[0][0]\n",
    "    TP = true_positive(cf, true_class_index)\n",
    "    FN = false_negative(cf, true_class_index)\n",
    "    return  TP / (TP + FN)\n",
    "    \n",
    "\n",
    "def f1_score_(df, true_class, p=None, r=None):\n",
    "    if p is None:\n",
    "        p = precision_(df, true_class)\n",
    "    if r is None:\n",
    "        r = recall_(df, true_class)\n",
    "\n",
    "    if p + r == 0:\n",
    "        return 0\n",
    "\n",
    "    return 2 * (p * r) / (p + r)\n"
   ]
  },
  {
   "cell_type": "code",
   "execution_count": null,
   "metadata": {},
   "outputs": [],
   "source": []
  },
  {
   "cell_type": "markdown",
   "metadata": {},
   "source": [
    "## 1.1 Robot1"
   ]
  },
  {
   "cell_type": "code",
   "execution_count": 10,
   "metadata": {},
   "outputs": [
    {
     "data": {
      "text/html": [
       "<div>\n",
       "<style scoped>\n",
       "    .dataframe tbody tr th:only-of-type {\n",
       "        vertical-align: middle;\n",
       "    }\n",
       "\n",
       "    .dataframe tbody tr th {\n",
       "        vertical-align: top;\n",
       "    }\n",
       "\n",
       "    .dataframe thead th {\n",
       "        text-align: right;\n",
       "    }\n",
       "</style>\n",
       "<table border=\"1\" class=\"dataframe\">\n",
       "  <thead>\n",
       "    <tr style=\"text-align: right;\">\n",
       "      <th></th>\n",
       "      <th>a1</th>\n",
       "      <th>a2</th>\n",
       "      <th>a3</th>\n",
       "      <th>a4</th>\n",
       "      <th>a5</th>\n",
       "      <th>a6</th>\n",
       "      <th>label</th>\n",
       "    </tr>\n",
       "  </thead>\n",
       "  <tbody>\n",
       "    <tr>\n",
       "      <th>0</th>\n",
       "      <td>1</td>\n",
       "      <td>1</td>\n",
       "      <td>1</td>\n",
       "      <td>1</td>\n",
       "      <td>3</td>\n",
       "      <td>1</td>\n",
       "      <td>1</td>\n",
       "    </tr>\n",
       "    <tr>\n",
       "      <th>1</th>\n",
       "      <td>1</td>\n",
       "      <td>1</td>\n",
       "      <td>1</td>\n",
       "      <td>1</td>\n",
       "      <td>3</td>\n",
       "      <td>2</td>\n",
       "      <td>1</td>\n",
       "    </tr>\n",
       "    <tr>\n",
       "      <th>2</th>\n",
       "      <td>1</td>\n",
       "      <td>1</td>\n",
       "      <td>1</td>\n",
       "      <td>3</td>\n",
       "      <td>2</td>\n",
       "      <td>1</td>\n",
       "      <td>1</td>\n",
       "    </tr>\n",
       "  </tbody>\n",
       "</table>\n",
       "</div>"
      ],
      "text/plain": [
       "   a1  a2  a3  a4  a5  a6  label\n",
       "0   1   1   1   1   3   1      1\n",
       "1   1   1   1   1   3   2      1\n",
       "2   1   1   1   3   2   1      1"
      ]
     },
     "execution_count": 10,
     "metadata": {},
     "output_type": "execute_result"
    }
   ],
   "source": [
    "df = pd.read_csv(\"../data/robot/Robot1\", header=None, sep=' ').dropna(axis=1, how='all')\n",
    "# add column names header\n",
    "df.columns = [\"class\", \"a1\", \"a2\", \"a3\", \"a4\", \"a5\", \"a6\", \"Id\"]\n",
    "\n",
    "# we do not need Id column\n",
    "df.drop(['Id'], axis=1, inplace=True)\n",
    "\n",
    "# make class label the last column \n",
    "cols = df.columns.tolist()\n",
    "cols.remove(\"class\")\n",
    "df = df[cols +[\"class\"]]\n",
    "\n",
    "target = \"label\"\n",
    "# rename the column whose value is to be predicted to \"label\"\n",
    "df = df.rename(columns={\"class\": target}) \n",
    "\n",
    "df.head(3)"
   ]
  },
  {
   "cell_type": "markdown",
   "metadata": {},
   "source": [
    "### 1.1.1\n",
    " - Implement a KNN classifier.\n",
    " - Report precision, recall, f1_score and accuracy\n",
    " - Compare your result with in-built(scikit-learn) KNN function to check correctness of your algorithm"
   ]
  },
  {
   "cell_type": "code",
   "execution_count": 11,
   "metadata": {
    "scrolled": false
   },
   "outputs": [
    {
     "name": "stdout",
     "output_type": "stream",
     "text": [
      "precision 0.8571428571428571\n",
      "precision_ 0.8571428571428571\n",
      "recall 0.8571428571428571\n",
      "recall_ 0.8571428571428571\n",
      "f1_score 0.8571428571428571\n",
      "f1_score_ 0.8571428571428571\n",
      "accuracy 0.84\n"
     ]
    },
    {
     "data": {
      "image/png": "[encoded data removed]",
      "text/plain": [
       "<Figure size 432x288 with 2 Axes>"
      ]
     },
     "metadata": {
      "needs_background": "light"
     },
     "output_type": "display_data"
    }
   ],
   "source": [
    "number_of_neighbours = 5\n",
    "\n",
    "train_df, validate_df = train_test_split(df, test_size = 0.2, random_state=1)\n",
    "\n",
    "predictions = predict(validate_df, train_df, k=number_of_neighbours)\n",
    "\n",
    "actual = validate_df[\"label\"]\n",
    "\n",
    "combined_df = pd.concat([actual, predictions],axis=1)\n",
    "\n",
    "print(\"precision\",precision(combined_df))\n",
    "print(\"precision_\",precision_(combined_df, 1))\n",
    "\n",
    "print(\"recall\", recall(combined_df))\n",
    "print(\"recall_\", recall_(combined_df, 1))\n",
    "\n",
    "print(\"f1_score\", f1_score(combined_df))\n",
    "print(\"f1_score_\", f1_score_(combined_df, 1))\n",
    "\n",
    "print(\"accuracy\",accuracy(combined_df))\n",
    "\n",
    "plot_confusion_heatmap(combined_df, xticks_rotation=0)"
   ]
  },
  {
   "cell_type": "markdown",
   "metadata": {},
   "source": [
    "array([[3, 3, 1, 1, 1, 1, 1],\n",
    "       [2, 3, 1, 1, 1, 1, 1],\n",
    "       [3, 3, 2, 1, 1, 1, 1],\n",
    "       [2, 2, 1, 1, 3, 1, 1],\n",
    "       [2, 3, 1, 2, 3, 1, 0]])\n",
    "\n",
    "array([[1, array([3, 3, 1, 1, 1, 1, 1])],\n",
    "       [2, array([2, 3, 1, 1, 1, 1, 1])],\n",
    "       [2, array([3, 3, 2, 1, 1, 1, 1])],\n",
    "       [3, array([2, 2, 1, 1, 3, 1, 1])],\n",
    "       [3, array([2, 3, 1, 2, 1, 1, 1])]], dtype=object)"
   ]
  },
  {
   "cell_type": "code",
   "execution_count": 12,
   "metadata": {},
   "outputs": [
    {
     "data": {
      "text/plain": [
       "0.8"
      ]
     },
     "execution_count": 12,
     "metadata": {},
     "output_type": "execute_result"
    }
   ],
   "source": [
    "# Comparison with sklearn\n",
    "from sklearn.neighbors import KNeighborsClassifier\n",
    "# from sklearn.model_selection import train_test_split as sk_train_test_split\n",
    "from sklearn.metrics import accuracy_score\n",
    "\n",
    "# X = df.drop([\"label\"], axis=1)\n",
    "# y = df[\"label\"]\n",
    "# X_train, X_test, y_train, y_test = sk_train_test_split(X, y, test_size=0.2, random_state=1)\n",
    "X_train, y_train = train_df.drop([\"label\"], axis=1), train_df[\"label\"]\n",
    "X_test, y_test = validate_df.drop([\"label\"], axis=1), validate_df[\"label\"]\n",
    "\n",
    "model = KNeighborsClassifier(n_neighbors=number_of_neighbours)\n",
    "\n",
    "# Train the model using the training set\n",
    "model.fit(X_train, y_train)\n",
    "\n",
    "# Predict Output\n",
    "y_pred = model.predict(X_test)\n",
    "\n",
    "# Report accuracy\n",
    "accuracy_score(y_test, y_pred)"
   ]
  },
  {
   "cell_type": "code",
   "execution_count": 13,
   "metadata": {},
   "outputs": [
    {
     "name": "stdout",
     "output_type": "stream",
     "text": [
      "1 0.76;\t2 0.72;\t3 0.72;\t4 0.72;\t5 0.8;\t6 0.72;\t7 0.72;\t8 0.72;\t9 0.72;\t10 0.76;\t11 0.76;\t12 0.76;\t13 0.72;\t14 0.68;\t15 0.72;\t16 0.68;\t17 0.76;\t18 0.84;\t19 0.76;\t\n"
     ]
    },
    {
     "data": {
      "text/plain": [
       "<seaborn.axisgrid.FacetGrid at 0x7fa625756278>"
      ]
     },
     "execution_count": 13,
     "metadata": {},
     "output_type": "execute_result"
    },
    {
     "data": {
      "image/png": "[encoded data removed]",
      "text/plain": [
       "<Figure size 432x432 with 1 Axes>"
      ]
     },
     "metadata": {
      "needs_background": "light"
     },
     "output_type": "display_data"
    }
   ],
   "source": [
    "from math import sqrt, floor\n",
    "accuracies = []\n",
    "n_samples = 20 #  TODO: use floor(sqrt(len(validate_df)))\n",
    "X_train, y_train = train_df.drop([\"label\"], axis=1), train_df[\"label\"]\n",
    "X_test, y_test = validate_df.drop([\"label\"], axis=1), validate_df[\"label\"]\n",
    "\n",
    "for k in range(1, n_samples):\n",
    "    model = KNeighborsClassifier(n_neighbors=k)\n",
    "    model.fit(X_train, y_train)\n",
    "    y_pred = model.predict(X_test)\n",
    "    accu = accuracy_score(y_test, y_pred)\n",
    "    print(k, accu, end=\";\\t\")\n",
    "    accuracies.append((k, accu))\n",
    "\n",
    "print()    \n",
    "plotdf = pd.DataFrame(accuracies, index=range(n_samples - 1), columns=[\"number of neighbours\", \"accuracy\"])\n",
    "sns.relplot( x=\"accuracy\", y=\"number of neighbours\", kind=\"line\", data=plotdf, height=6)\n"
   ]
  },
  {
   "cell_type": "code",
   "execution_count": 14,
   "metadata": {},
   "outputs": [
    {
     "name": "stdout",
     "output_type": "stream",
     "text": [
      "1 0.76;\t2 0.68;\t3 0.56;\t4 0.68;\t5 0.84;\t6 0.8;\t7 0.8;\t8 0.76;\t9 0.76;\t10 0.76;\t11 0.72;\t12 0.72;\t13 0.72;\t14 0.72;\t15 0.72;\t16 0.76;\t17 0.68;\t18 0.76;\t19 0.76;\t\n"
     ]
    },
    {
     "data": {
      "text/plain": [
       "<seaborn.axisgrid.FacetGrid at 0x7fa6256e3828>"
      ]
     },
     "execution_count": 14,
     "metadata": {},
     "output_type": "execute_result"
    },
    {
     "data": {
      "image/png": "[encoded data removed]",
      "text/plain": [
       "<Figure size 432x432 with 1 Axes>"
      ]
     },
     "metadata": {
      "needs_background": "light"
     },
     "output_type": "display_data"
    }
   ],
   "source": [
    "from math import sqrt, floor\n",
    "accuracies = []\n",
    "n_samples = 20 #  TODO: use floor(sqrt(len(validate_df)))\n",
    "\n",
    "for k in range(1, n_samples):\n",
    "    predictions = predict(validate_df, train_df, k=k)\n",
    "    actual = validate_df[\"label\"]\n",
    "    combined_df = pd.concat([actual, predictions], axis=1)\n",
    "    accu = accuracy(combined_df)\n",
    "    print(k, accu, end=\";\\t\")\n",
    "    accuracies.append((k, accu))\n",
    "print()    \n",
    "plotdf = pd.DataFrame(accuracies, index=range(n_samples - 1), columns=[\"number of neighbours\", \"accuracy\"])\n",
    "sns.relplot( x=\"accuracy\", y=\"number of neighbours\", kind=\"line\", data=plotdf, height=6)\n"
   ]
  },
  {
   "cell_type": "markdown",
   "metadata": {},
   "source": [
    "### 1.2 Robot2\n"
   ]
  },
  {
   "cell_type": "code",
   "execution_count": 15,
   "metadata": {},
   "outputs": [
    {
     "data": {
      "text/html": [
       "<div>\n",
       "<style scoped>\n",
       "    .dataframe tbody tr th:only-of-type {\n",
       "        vertical-align: middle;\n",
       "    }\n",
       "\n",
       "    .dataframe tbody tr th {\n",
       "        vertical-align: top;\n",
       "    }\n",
       "\n",
       "    .dataframe thead th {\n",
       "        text-align: right;\n",
       "    }\n",
       "</style>\n",
       "<table border=\"1\" class=\"dataframe\">\n",
       "  <thead>\n",
       "    <tr style=\"text-align: right;\">\n",
       "      <th></th>\n",
       "      <th>a1</th>\n",
       "      <th>a2</th>\n",
       "      <th>a3</th>\n",
       "      <th>a4</th>\n",
       "      <th>a5</th>\n",
       "      <th>a6</th>\n",
       "      <th>label</th>\n",
       "    </tr>\n",
       "  </thead>\n",
       "  <tbody>\n",
       "    <tr>\n",
       "      <th>0</th>\n",
       "      <td>1</td>\n",
       "      <td>1</td>\n",
       "      <td>1</td>\n",
       "      <td>1</td>\n",
       "      <td>1</td>\n",
       "      <td>2</td>\n",
       "      <td>1</td>\n",
       "    </tr>\n",
       "  </tbody>\n",
       "</table>\n",
       "</div>"
      ],
      "text/plain": [
       "   a1  a2  a3  a4  a5  a6  label\n",
       "0   1   1   1   1   1   2      1"
      ]
     },
     "execution_count": 15,
     "metadata": {},
     "output_type": "execute_result"
    }
   ],
   "source": [
    "df = pd.read_csv(\"../data/robot/Robot2\", header=None, sep=' ').dropna(axis=1, how='all')\n",
    "# add column names header\n",
    "df.columns = [\"class\", \"a1\", \"a2\", \"a3\", \"a4\", \"a5\", \"a6\", \"Id\"]\n",
    "\n",
    "# we do not need Id column\n",
    "df.drop(['Id'], axis=1, inplace=True)\n",
    "\n",
    "# make class label the last column \n",
    "cols = df.columns.tolist()\n",
    "cols.remove(\"class\")\n",
    "df = df[cols +[\"class\"]]\n",
    "\n",
    "target = \"label\"\n",
    "# rename the column whose value is to be predicted to \"label\"\n",
    "df = df.rename(columns={\"class\": target}) \n",
    "\n",
    "df.head(1)"
   ]
  },
  {
   "cell_type": "code",
   "execution_count": 16,
   "metadata": {},
   "outputs": [
    {
     "name": "stdout",
     "output_type": "stream",
     "text": [
      "precision 0.9090909090909091\n",
      "precision_ 0.9090909090909091\n",
      "recall 1.0\n",
      "recall_ 1.0\n",
      "f1_score 0.9523809523809523\n",
      "f1_score_ 0.9523809523809523\n",
      "accuracy 0.9583333333333334\n"
     ]
    },
    {
     "data": {
      "image/png": "[encoded data removed]",
      "text/plain": [
       "<Figure size 432x288 with 2 Axes>"
      ]
     },
     "metadata": {
      "needs_background": "light"
     },
     "output_type": "display_data"
    }
   ],
   "source": [
    "train_df, validate_df = train_test_split(df, test_size = 0.2, random_state=4)\n",
    "predictions = predict(validate_df, train_df, k=7)\n",
    "actual = validate_df[\"label\"]\n",
    "\n",
    "combined_df = pd.concat([actual, predictions],axis=1)\n",
    "\n",
    "print(\"precision\", precision(combined_df))\n",
    "print(\"precision_\", precision_(combined_df, 1))\n",
    "\n",
    "print(\"recall\", recall(combined_df))\n",
    "print(\"recall_\", recall_(combined_df, 1))\n",
    "\n",
    "print(\"f1_score\", f1_score(combined_df))\n",
    "print(\"f1_score_\", f1_score_(combined_df, 1))\n",
    "\n",
    "print(\"accuracy\",accuracy(combined_df))\n",
    "\n",
    "plot_confusion_heatmap(combined_df,xticks_rotation=0)"
   ]
  },
  {
   "cell_type": "code",
   "execution_count": 17,
   "metadata": {},
   "outputs": [
    {
     "data": {
      "text/plain": [
       "0.9166666666666666"
      ]
     },
     "execution_count": 17,
     "metadata": {},
     "output_type": "execute_result"
    }
   ],
   "source": [
    "# Comparison with sklearn\n",
    "from sklearn.neighbors import KNeighborsClassifier\n",
    "# from sklearn.model_selection import train_test_split as sk_train_test_split\n",
    "from sklearn.metrics import accuracy_score\n",
    "\n",
    "# X = df.drop([\"label\"], axis=1)\n",
    "# y = df[\"label\"]\n",
    "# X_train, X_test, y_train, y_test = sk_train_test_split(X, y, test_size=0.2, random_state=1)\n",
    "X_train, y_train = train_df.drop([\"label\"], axis=1), train_df[\"label\"]\n",
    "X_test, y_test = validate_df.drop([\"label\"], axis=1), validate_df[\"label\"]\n",
    "\n",
    "model = KNeighborsClassifier(n_neighbors=7)\n",
    "\n",
    "# Train the model using the training set\n",
    "model.fit(X_train, y_train)\n",
    "\n",
    "# Predict Output\n",
    "y_pred = model.predict(X_test)\n",
    "\n",
    "# Report accuracy\n",
    "accuracy_score(y_test, y_pred)"
   ]
  },
  {
   "cell_type": "code",
   "execution_count": 18,
   "metadata": {},
   "outputs": [
    {
     "name": "stdout",
     "output_type": "stream",
     "text": [
      "1 0.9166666666666666;\t2 0.9583333333333334;\t3 0.9166666666666666;\t4 0.9583333333333334;\t5 0.9166666666666666;\t6 0.9583333333333334;\t7 0.9583333333333334;\t8 0.9583333333333334;\t9 0.9583333333333334;\t10 0.9583333333333334;\t11 0.9583333333333334;\t12 0.9583333333333334;\t13 0.9583333333333334;\t14 0.9583333333333334;\t15 0.9583333333333334;\t16 0.9583333333333334;\t17 0.9166666666666666;\t18 0.9166666666666666;\t19 0.875;\t\n"
     ]
    },
    {
     "data": {
      "text/plain": [
       "<seaborn.axisgrid.FacetGrid at 0x7fa6147fd710>"
      ]
     },
     "execution_count": 18,
     "metadata": {},
     "output_type": "execute_result"
    },
    {
     "data": {
      "image/png": "[encoded data removed]",
      "text/plain": [
       "<Figure size 432x432 with 1 Axes>"
      ]
     },
     "metadata": {
      "needs_background": "light"
     },
     "output_type": "display_data"
    }
   ],
   "source": [
    "from math import sqrt, floor\n",
    "accuracies = []\n",
    "n_samples = 20 #  TODO: use floor(sqrt(len(validate_df)))\n",
    "\n",
    "for k in range(1, n_samples):\n",
    "    predictions = predict(validate_df, train_df, k=k)\n",
    "    actual = validate_df[\"label\"]\n",
    "    combined_df = pd.concat([actual, predictions], axis=1)\n",
    "    accu = accuracy(combined_df)\n",
    "    print(k, accu, end=\";\\t\")\n",
    "    accuracies.append((k, accu))\n",
    "print()    \n",
    "plotdf = pd.DataFrame(accuracies, index=range(n_samples - 1), columns=[\"number of neighbours\", \"accuracy\"])\n",
    "sns.relplot( x=\"accuracy\", y=\"number of neighbours\", kind=\"line\", data=plotdf, height=6)\n"
   ]
  },
  {
   "cell_type": "code",
   "execution_count": null,
   "metadata": {},
   "outputs": [],
   "source": []
  },
  {
   "cell_type": "markdown",
   "metadata": {},
   "source": [
    "## 2. Iris.csv"
   ]
  },
  {
   "cell_type": "code",
   "execution_count": 19,
   "metadata": {},
   "outputs": [
    {
     "data": {
      "text/html": [
       "<div>\n",
       "<style scoped>\n",
       "    .dataframe tbody tr th:only-of-type {\n",
       "        vertical-align: middle;\n",
       "    }\n",
       "\n",
       "    .dataframe tbody tr th {\n",
       "        vertical-align: top;\n",
       "    }\n",
       "\n",
       "    .dataframe thead th {\n",
       "        text-align: right;\n",
       "    }\n",
       "</style>\n",
       "<table border=\"1\" class=\"dataframe\">\n",
       "  <thead>\n",
       "    <tr style=\"text-align: right;\">\n",
       "      <th></th>\n",
       "      <th>sepal_length</th>\n",
       "      <th>sepal_width</th>\n",
       "      <th>petal_length</th>\n",
       "      <th>petal_width</th>\n",
       "      <th>label</th>\n",
       "    </tr>\n",
       "  </thead>\n",
       "  <tbody>\n",
       "    <tr>\n",
       "      <th>0</th>\n",
       "      <td>5.1</td>\n",
       "      <td>3.5</td>\n",
       "      <td>1.4</td>\n",
       "      <td>0.2</td>\n",
       "      <td>Iris-setosa</td>\n",
       "    </tr>\n",
       "    <tr>\n",
       "      <th>1</th>\n",
       "      <td>6.3</td>\n",
       "      <td>3.3</td>\n",
       "      <td>6.0</td>\n",
       "      <td>2.5</td>\n",
       "      <td>Iris-virginica</td>\n",
       "    </tr>\n",
       "    <tr>\n",
       "      <th>2</th>\n",
       "      <td>5.0</td>\n",
       "      <td>3.0</td>\n",
       "      <td>1.6</td>\n",
       "      <td>0.2</td>\n",
       "      <td>Iris-setosa</td>\n",
       "    </tr>\n",
       "  </tbody>\n",
       "</table>\n",
       "</div>"
      ],
      "text/plain": [
       "   sepal_length  sepal_width  petal_length  petal_width           label\n",
       "0           5.1          3.5           1.4          0.2     Iris-setosa\n",
       "1           6.3          3.3           6.0          2.5  Iris-virginica\n",
       "2           5.0          3.0           1.6          0.2     Iris-setosa"
      ]
     },
     "execution_count": 19,
     "metadata": {},
     "output_type": "execute_result"
    }
   ],
   "source": [
    "df = pd.read_csv(\"../data/iris/Iris.csv\", header=None, sep=',')\n",
    "\n",
    "# add column names header\n",
    "df.columns = [\"sepal_length\", \"sepal_width\", \"petal_length\", \"petal_width\", \"label\"]\n",
    "\n",
    "df.head(3)"
   ]
  },
  {
   "cell_type": "code",
   "execution_count": 20,
   "metadata": {},
   "outputs": [
    {
     "name": "stdout",
     "output_type": "stream",
     "text": [
      "accuracy: 0.9259259259259259\n",
      "precision for Iris-setosa: 1.0\n",
      "precision for Iris-versicolor: 0.9\n",
      "precision for Iris-virginica: 0.9\n",
      "recall for Iris-setosa: 1.0\n",
      "recall for Iris-versicolor: 0.9\n",
      "recall for Iris-virginica: 0.9\n"
     ]
    },
    {
     "data": {
      "image/png": "[encoded data removed]",
      "text/plain": [
       "<Figure size 432x288 with 2 Axes>"
      ]
     },
     "metadata": {
      "needs_background": "light"
     },
     "output_type": "display_data"
    }
   ],
   "source": [
    "train_df, validate_df = train_test_split(df, test_size = 0.2, random_state=100)\n",
    "predictions = predict(validate_df, train_df, k=7)\n",
    "actual = validate_df[\"label\"]\n",
    "\n",
    "combined_df = pd.concat([actual, predictions], axis=1)\n",
    "\n",
    "print(\"accuracy:\", accuracy(combined_df))\n",
    "\n",
    "print(\"precision for Iris-setosa:\", precision_(combined_df, 'Iris-setosa'))\n",
    "print(\"precision for Iris-versicolor:\", precision_(combined_df, 'Iris-versicolor'))\n",
    "print(\"precision for Iris-virginica:\", precision_(combined_df, 'Iris-virginica'))\n",
    "\n",
    "print(\"recall for Iris-setosa:\", recall_(combined_df, 'Iris-setosa'))\n",
    "print(\"recall for Iris-versicolor:\", recall_(combined_df, 'Iris-versicolor'))\n",
    "print(\"recall for Iris-virginica:\", recall_(combined_df, 'Iris-virginica'))\n",
    "\n",
    "plot_confusion_heatmap(combined_df, xticks_rotation=45)"
   ]
  },
  {
   "cell_type": "code",
   "execution_count": 21,
   "metadata": {},
   "outputs": [
    {
     "data": {
      "text/plain": [
       "0.9259259259259259"
      ]
     },
     "execution_count": 21,
     "metadata": {},
     "output_type": "execute_result"
    }
   ],
   "source": [
    "# Comparison with sklearn\n",
    "from sklearn.neighbors import KNeighborsClassifier\n",
    "# from sklearn.model_selection import train_test_split as sk_train_test_split\n",
    "from sklearn.metrics import accuracy_score\n",
    "\n",
    "# X = df.drop([\"label\"], axis=1)\n",
    "# y = df[\"label\"]\n",
    "# X_train, X_test, y_train, y_test = sk_train_test_split(X, y, test_size=0.2, random_state=1)\n",
    "X_train, y_train = train_df.drop([\"label\"], axis=1), train_df[\"label\"]\n",
    "X_test, y_test = validate_df.drop([\"label\"], axis=1), validate_df[\"label\"]\n",
    "\n",
    "model = KNeighborsClassifier(n_neighbors=7)\n",
    "\n",
    "# Train the model using the training set\n",
    "model.fit(X_train, y_train)\n",
    "\n",
    "# Predict Output\n",
    "y_pred = model.predict(X_test)\n",
    "\n",
    "# Report accuracy\n",
    "accuracy_score(y_test, y_pred)"
   ]
  },
  {
   "cell_type": "code",
   "execution_count": 22,
   "metadata": {},
   "outputs": [
    {
     "name": "stdout",
     "output_type": "stream",
     "text": [
      "1 0.9629629629629629;\t2 0.9629629629629629;\t3 1.0;\t4 0.8888888888888888;\t5 0.9259259259259259;\t6 0.8888888888888888;\t7 0.9259259259259259;\t8 0.8888888888888888;\t9 0.9629629629629629;\t10 0.9259259259259259;\t11 0.9259259259259259;\t12 0.9259259259259259;\t13 0.9259259259259259;\t14 0.9259259259259259;\t15 0.9629629629629629;\t16 0.8888888888888888;\t17 0.9259259259259259;\t18 0.8888888888888888;\t19 0.9629629629629629;\t\n"
     ]
    },
    {
     "data": {
      "text/plain": [
       "<seaborn.axisgrid.FacetGrid at 0x7fa6131cc400>"
      ]
     },
     "execution_count": 22,
     "metadata": {},
     "output_type": "execute_result"
    },
    {
     "data": {
      "image/png": "[encoded data removed]",
      "text/plain": [
       "<Figure size 432x432 with 1 Axes>"
      ]
     },
     "metadata": {
      "needs_background": "light"
     },
     "output_type": "display_data"
    }
   ],
   "source": [
    "from math import sqrt, floor\n",
    "accuracies = []\n",
    "n_samples = 20 #  TODO: use floor(sqrt(len(validate_df)))\n",
    "X_train, y_train = train_df.drop([\"label\"], axis=1), train_df[\"label\"]\n",
    "X_test, y_test = validate_df.drop([\"label\"], axis=1), validate_df[\"label\"]\n",
    "\n",
    "for k in range(1, n_samples):\n",
    "    model = KNeighborsClassifier(n_neighbors=k)\n",
    "    model.fit(X_train, y_train)\n",
    "    y_pred = model.predict(X_test)\n",
    "    accu = accuracy_score(y_test, y_pred)\n",
    "    print(k, accu, end=\";\\t\")\n",
    "    accuracies.append((k, accu))\n",
    "\n",
    "print()    \n",
    "plotdf = pd.DataFrame(accuracies, index=range(n_samples - 1), columns=[\"number of neighbours\", \"accuracy\"])\n",
    "sns.relplot( x=\"accuracy\", y=\"number of neighbours\", kind=\"line\", data=plotdf, height=6)\n"
   ]
  },
  {
   "cell_type": "code",
   "execution_count": 23,
   "metadata": {},
   "outputs": [
    {
     "name": "stdout",
     "output_type": "stream",
     "text": [
      "1 0.9629629629629629;\t2 0.9629629629629629;\t3 1.0;\t4 0.8888888888888888;\t5 0.9259259259259259;\t6 0.8888888888888888;\t7 0.9259259259259259;\t8 0.8888888888888888;\t9 0.9629629629629629;\t10 0.9259259259259259;\t11 0.9259259259259259;\t12 0.9259259259259259;\t13 0.9259259259259259;\t14 0.9259259259259259;\t15 0.9629629629629629;\t16 0.8888888888888888;\t17 0.9259259259259259;\t18 0.8888888888888888;\t19 0.9629629629629629;\t\n"
     ]
    },
    {
     "data": {
      "text/plain": [
       "<seaborn.axisgrid.FacetGrid at 0x7fa61319fda0>"
      ]
     },
     "execution_count": 23,
     "metadata": {},
     "output_type": "execute_result"
    },
    {
     "data": {
      "image/png": "[encoded data removed]",
      "text/plain": [
       "<Figure size 432x432 with 1 Axes>"
      ]
     },
     "metadata": {
      "needs_background": "light"
     },
     "output_type": "display_data"
    }
   ],
   "source": [
    "from math import sqrt, floor\n",
    "accuracies = []\n",
    "n_samples = 20 #  TODO: use floor(sqrt(len(validate_df)))\n",
    "\n",
    "for k in range(1, n_samples):\n",
    "    predictions = predict(validate_df, train_df, k=k)\n",
    "    actual = validate_df[\"label\"]\n",
    "    combined_df = pd.concat([actual, predictions], axis=1)\n",
    "    accu = accuracy(combined_df)\n",
    "    print(k, accu, end=\";\\t\")\n",
    "    accuracies.append((k, accu))\n",
    "print()    \n",
    "plotdf = pd.DataFrame(accuracies, index=range(n_samples - 1), columns=[\"number of neighbours\", \"accuracy\"])\n",
    "sns.relplot( x=\"accuracy\", y=\"number of neighbours\", kind=\"line\", data=plotdf, height=6)\n"
   ]
  },
  {
   "cell_type": "code",
   "execution_count": null,
   "metadata": {},
   "outputs": [],
   "source": []
  },
  {
   "cell_type": "code",
   "execution_count": null,
   "metadata": {},
   "outputs": [],
   "source": []
  }
 ],
 "metadata": {
  "kernelspec": {
   "display_name": "Python 3",
   "language": "python",
   "name": "python3"
  },
  "language_info": {
   "codemirror_mode": {
    "name": "ipython",
    "version": 3
   },
   "file_extension": ".py",
   "mimetype": "text/x-python",
   "name": "python",
   "nbconvert_exporter": "python",
   "pygments_lexer": "ipython3",
   "version": "3.7.1"
  }
 },
 "nbformat": 4,
 "nbformat_minor": 2
}
